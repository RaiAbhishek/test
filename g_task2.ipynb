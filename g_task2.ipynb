{
 "cells": [
  {
   "cell_type": "code",
   "execution_count": 1,
   "metadata": {},
   "outputs": [
    {
     "data": {
      "text/html": [
       "<style>.container { width:95% !important; }</style>"
      ],
      "text/plain": [
       "<IPython.core.display.HTML object>"
      ]
     },
     "metadata": {},
     "output_type": "display_data"
    }
   ],
   "source": [
    "from IPython.display import display, HTML\n",
    "display(HTML(\"<style>.container { width:95% !important; }</style>\"))\n",
    "\n",
    "import warnings\n",
    "warnings.filterwarnings('ignore')\n",
    "\n",
    "import pandas as pd\n",
    "import seaborn as sns\n",
    "from copy import deepcopy"
   ]
  },
  {
   "cell_type": "code",
   "execution_count": 2,
   "metadata": {},
   "outputs": [
    {
     "name": "stdout",
     "output_type": "stream",
     "text": [
      "<class 'pandas.core.frame.DataFrame'>\n",
      "RangeIndex: 426880 entries, 0 to 426879\n",
      "Data columns (total 18 columns):\n",
      "id              426880 non-null int64\n",
      "region          426880 non-null object\n",
      "price           426880 non-null int64\n",
      "year            425675 non-null float64\n",
      "manufacturer    409234 non-null object\n",
      "model           421603 non-null object\n",
      "condition       252776 non-null object\n",
      "cylinders       249202 non-null object\n",
      "fuel            423867 non-null object\n",
      "odometer        422480 non-null float64\n",
      "title_status    418638 non-null object\n",
      "transmission    424324 non-null object\n",
      "VIN             265838 non-null object\n",
      "drive           296313 non-null object\n",
      "size            120519 non-null object\n",
      "type            334022 non-null object\n",
      "paint_color     296677 non-null object\n",
      "state           426880 non-null object\n",
      "dtypes: float64(2), int64(2), object(14)\n",
      "memory usage: 58.6+ MB\n"
     ]
    }
   ],
   "source": [
    "df=pd.read_csv('vehicles.csv')\n",
    "df.info()"
   ]
  },
  {
   "cell_type": "code",
   "execution_count": 3,
   "metadata": {},
   "outputs": [],
   "source": [
    "df_master=deepcopy(df)"
   ]
  },
  {
   "cell_type": "code",
   "execution_count": 4,
   "metadata": {},
   "outputs": [],
   "source": [
    "# Rearranging Columns\n",
    "\n",
    "df=df[['id', 'region', 'year', 'manufacturer', 'model', 'condition',\n",
    "       'cylinders', 'fuel', 'odometer', 'title_status', 'transmission', 'VIN',\n",
    "       'drive', 'size', 'type', 'paint_color', 'state','price']]"
   ]
  },
  {
   "cell_type": "code",
   "execution_count": 5,
   "metadata": {
    "scrolled": false
   },
   "outputs": [
    {
     "data": {
      "text/html": [
       "<div>\n",
       "<style scoped>\n",
       "    .dataframe tbody tr th:only-of-type {\n",
       "        vertical-align: middle;\n",
       "    }\n",
       "\n",
       "    .dataframe tbody tr th {\n",
       "        vertical-align: top;\n",
       "    }\n",
       "\n",
       "    .dataframe thead th {\n",
       "        text-align: right;\n",
       "    }\n",
       "</style>\n",
       "<table border=\"1\" class=\"dataframe\">\n",
       "  <thead>\n",
       "    <tr style=\"text-align: right;\">\n",
       "      <th></th>\n",
       "      <th>id</th>\n",
       "      <th>region</th>\n",
       "      <th>year</th>\n",
       "      <th>manufacturer</th>\n",
       "      <th>model</th>\n",
       "      <th>condition</th>\n",
       "      <th>cylinders</th>\n",
       "      <th>fuel</th>\n",
       "      <th>odometer</th>\n",
       "      <th>title_status</th>\n",
       "      <th>transmission</th>\n",
       "      <th>VIN</th>\n",
       "      <th>drive</th>\n",
       "      <th>size</th>\n",
       "      <th>type</th>\n",
       "      <th>paint_color</th>\n",
       "      <th>state</th>\n",
       "      <th>price</th>\n",
       "    </tr>\n",
       "  </thead>\n",
       "  <tbody>\n",
       "    <tr>\n",
       "      <th>30</th>\n",
       "      <td>7316743432</td>\n",
       "      <td>auburn</td>\n",
       "      <td>2017.0</td>\n",
       "      <td>toyota</td>\n",
       "      <td>tundra double cab sr</td>\n",
       "      <td>good</td>\n",
       "      <td>8 cylinders</td>\n",
       "      <td>gas</td>\n",
       "      <td>41124.0</td>\n",
       "      <td>clean</td>\n",
       "      <td>other</td>\n",
       "      <td>5TFRM5F17HX120972</td>\n",
       "      <td>NaN</td>\n",
       "      <td>NaN</td>\n",
       "      <td>pickup</td>\n",
       "      <td>red</td>\n",
       "      <td>al</td>\n",
       "      <td>30990</td>\n",
       "    </tr>\n",
       "    <tr>\n",
       "      <th>31</th>\n",
       "      <td>7316356412</td>\n",
       "      <td>auburn</td>\n",
       "      <td>2013.0</td>\n",
       "      <td>ford</td>\n",
       "      <td>f-150 xlt</td>\n",
       "      <td>excellent</td>\n",
       "      <td>6 cylinders</td>\n",
       "      <td>gas</td>\n",
       "      <td>128000.0</td>\n",
       "      <td>clean</td>\n",
       "      <td>automatic</td>\n",
       "      <td>NaN</td>\n",
       "      <td>rwd</td>\n",
       "      <td>full-size</td>\n",
       "      <td>truck</td>\n",
       "      <td>black</td>\n",
       "      <td>al</td>\n",
       "      <td>15000</td>\n",
       "    </tr>\n",
       "    <tr>\n",
       "      <th>32</th>\n",
       "      <td>7316343444</td>\n",
       "      <td>auburn</td>\n",
       "      <td>2012.0</td>\n",
       "      <td>gmc</td>\n",
       "      <td>sierra 2500 hd extended cab</td>\n",
       "      <td>good</td>\n",
       "      <td>8 cylinders</td>\n",
       "      <td>gas</td>\n",
       "      <td>68696.0</td>\n",
       "      <td>clean</td>\n",
       "      <td>other</td>\n",
       "      <td>1GT220CG8CZ231238</td>\n",
       "      <td>4wd</td>\n",
       "      <td>NaN</td>\n",
       "      <td>pickup</td>\n",
       "      <td>black</td>\n",
       "      <td>al</td>\n",
       "      <td>27990</td>\n",
       "    </tr>\n",
       "    <tr>\n",
       "      <th>33</th>\n",
       "      <td>7316304717</td>\n",
       "      <td>auburn</td>\n",
       "      <td>2016.0</td>\n",
       "      <td>chevrolet</td>\n",
       "      <td>silverado 1500 double</td>\n",
       "      <td>good</td>\n",
       "      <td>6 cylinders</td>\n",
       "      <td>gas</td>\n",
       "      <td>29499.0</td>\n",
       "      <td>clean</td>\n",
       "      <td>other</td>\n",
       "      <td>1GCVKREH6GZ228691</td>\n",
       "      <td>4wd</td>\n",
       "      <td>NaN</td>\n",
       "      <td>pickup</td>\n",
       "      <td>silver</td>\n",
       "      <td>al</td>\n",
       "      <td>34590</td>\n",
       "    </tr>\n",
       "    <tr>\n",
       "      <th>34</th>\n",
       "      <td>7316285779</td>\n",
       "      <td>auburn</td>\n",
       "      <td>2019.0</td>\n",
       "      <td>toyota</td>\n",
       "      <td>tacoma</td>\n",
       "      <td>excellent</td>\n",
       "      <td>6 cylinders</td>\n",
       "      <td>gas</td>\n",
       "      <td>43000.0</td>\n",
       "      <td>clean</td>\n",
       "      <td>automatic</td>\n",
       "      <td>NaN</td>\n",
       "      <td>4wd</td>\n",
       "      <td>NaN</td>\n",
       "      <td>truck</td>\n",
       "      <td>grey</td>\n",
       "      <td>al</td>\n",
       "      <td>35000</td>\n",
       "    </tr>\n",
       "    <tr>\n",
       "      <th>35</th>\n",
       "      <td>7316257769</td>\n",
       "      <td>auburn</td>\n",
       "      <td>2016.0</td>\n",
       "      <td>chevrolet</td>\n",
       "      <td>colorado extended cab</td>\n",
       "      <td>good</td>\n",
       "      <td>6 cylinders</td>\n",
       "      <td>gas</td>\n",
       "      <td>17302.0</td>\n",
       "      <td>clean</td>\n",
       "      <td>other</td>\n",
       "      <td>1GCHTCE37G1186784</td>\n",
       "      <td>4wd</td>\n",
       "      <td>NaN</td>\n",
       "      <td>pickup</td>\n",
       "      <td>red</td>\n",
       "      <td>al</td>\n",
       "      <td>29990</td>\n",
       "    </tr>\n",
       "    <tr>\n",
       "      <th>36</th>\n",
       "      <td>7316133914</td>\n",
       "      <td>auburn</td>\n",
       "      <td>2011.0</td>\n",
       "      <td>chevrolet</td>\n",
       "      <td>corvette grand sport</td>\n",
       "      <td>good</td>\n",
       "      <td>8 cylinders</td>\n",
       "      <td>gas</td>\n",
       "      <td>30237.0</td>\n",
       "      <td>clean</td>\n",
       "      <td>other</td>\n",
       "      <td>1G1YR3DW3B5102190</td>\n",
       "      <td>rwd</td>\n",
       "      <td>NaN</td>\n",
       "      <td>other</td>\n",
       "      <td>red</td>\n",
       "      <td>al</td>\n",
       "      <td>38590</td>\n",
       "    </tr>\n",
       "    <tr>\n",
       "      <th>37</th>\n",
       "      <td>7316130053</td>\n",
       "      <td>auburn</td>\n",
       "      <td>1992.0</td>\n",
       "      <td>jeep</td>\n",
       "      <td>cherokee</td>\n",
       "      <td>excellent</td>\n",
       "      <td>6 cylinders</td>\n",
       "      <td>gas</td>\n",
       "      <td>192000.0</td>\n",
       "      <td>clean</td>\n",
       "      <td>automatic</td>\n",
       "      <td>NaN</td>\n",
       "      <td>4wd</td>\n",
       "      <td>NaN</td>\n",
       "      <td>NaN</td>\n",
       "      <td>NaN</td>\n",
       "      <td>al</td>\n",
       "      <td>4500</td>\n",
       "    </tr>\n",
       "    <tr>\n",
       "      <th>38</th>\n",
       "      <td>7315816316</td>\n",
       "      <td>auburn</td>\n",
       "      <td>2017.0</td>\n",
       "      <td>jeep</td>\n",
       "      <td>wrangler unlimited sport</td>\n",
       "      <td>good</td>\n",
       "      <td>6 cylinders</td>\n",
       "      <td>gas</td>\n",
       "      <td>30041.0</td>\n",
       "      <td>clean</td>\n",
       "      <td>other</td>\n",
       "      <td>1C4BJWDG5HL705371</td>\n",
       "      <td>4wd</td>\n",
       "      <td>NaN</td>\n",
       "      <td>other</td>\n",
       "      <td>silver</td>\n",
       "      <td>al</td>\n",
       "      <td>32990</td>\n",
       "    </tr>\n",
       "    <tr>\n",
       "      <th>39</th>\n",
       "      <td>7315770394</td>\n",
       "      <td>auburn</td>\n",
       "      <td>2017.0</td>\n",
       "      <td>chevrolet</td>\n",
       "      <td>silverado 1500 regular</td>\n",
       "      <td>good</td>\n",
       "      <td>6 cylinders</td>\n",
       "      <td>gas</td>\n",
       "      <td>40784.0</td>\n",
       "      <td>clean</td>\n",
       "      <td>other</td>\n",
       "      <td>1GCNCNEH7HZ118773</td>\n",
       "      <td>NaN</td>\n",
       "      <td>NaN</td>\n",
       "      <td>pickup</td>\n",
       "      <td>white</td>\n",
       "      <td>al</td>\n",
       "      <td>24590</td>\n",
       "    </tr>\n",
       "  </tbody>\n",
       "</table>\n",
       "</div>"
      ],
      "text/plain": [
       "            id  region    year manufacturer                        model  \\\n",
       "30  7316743432  auburn  2017.0       toyota         tundra double cab sr   \n",
       "31  7316356412  auburn  2013.0         ford                    f-150 xlt   \n",
       "32  7316343444  auburn  2012.0          gmc  sierra 2500 hd extended cab   \n",
       "33  7316304717  auburn  2016.0    chevrolet        silverado 1500 double   \n",
       "34  7316285779  auburn  2019.0       toyota                       tacoma   \n",
       "35  7316257769  auburn  2016.0    chevrolet        colorado extended cab   \n",
       "36  7316133914  auburn  2011.0    chevrolet         corvette grand sport   \n",
       "37  7316130053  auburn  1992.0         jeep                     cherokee   \n",
       "38  7315816316  auburn  2017.0         jeep     wrangler unlimited sport   \n",
       "39  7315770394  auburn  2017.0    chevrolet       silverado 1500 regular   \n",
       "\n",
       "    condition    cylinders fuel  odometer title_status transmission  \\\n",
       "30       good  8 cylinders  gas   41124.0        clean        other   \n",
       "31  excellent  6 cylinders  gas  128000.0        clean    automatic   \n",
       "32       good  8 cylinders  gas   68696.0        clean        other   \n",
       "33       good  6 cylinders  gas   29499.0        clean        other   \n",
       "34  excellent  6 cylinders  gas   43000.0        clean    automatic   \n",
       "35       good  6 cylinders  gas   17302.0        clean        other   \n",
       "36       good  8 cylinders  gas   30237.0        clean        other   \n",
       "37  excellent  6 cylinders  gas  192000.0        clean    automatic   \n",
       "38       good  6 cylinders  gas   30041.0        clean        other   \n",
       "39       good  6 cylinders  gas   40784.0        clean        other   \n",
       "\n",
       "                  VIN drive       size    type paint_color state  price  \n",
       "30  5TFRM5F17HX120972   NaN        NaN  pickup         red    al  30990  \n",
       "31                NaN   rwd  full-size   truck       black    al  15000  \n",
       "32  1GT220CG8CZ231238   4wd        NaN  pickup       black    al  27990  \n",
       "33  1GCVKREH6GZ228691   4wd        NaN  pickup      silver    al  34590  \n",
       "34                NaN   4wd        NaN   truck        grey    al  35000  \n",
       "35  1GCHTCE37G1186784   4wd        NaN  pickup         red    al  29990  \n",
       "36  1G1YR3DW3B5102190   rwd        NaN   other         red    al  38590  \n",
       "37                NaN   4wd        NaN     NaN         NaN    al   4500  \n",
       "38  1C4BJWDG5HL705371   4wd        NaN   other      silver    al  32990  \n",
       "39  1GCNCNEH7HZ118773   NaN        NaN  pickup       white    al  24590  "
      ]
     },
     "execution_count": 5,
     "metadata": {},
     "output_type": "execute_result"
    }
   ],
   "source": [
    "df.iloc[30:40,:]"
   ]
  },
  {
   "cell_type": "code",
   "execution_count": 6,
   "metadata": {},
   "outputs": [
    {
     "name": "stdout",
     "output_type": "stream",
     "text": [
      "id 426880\n",
      "region 404\n",
      "year 114\n",
      "manufacturer 42\n",
      "model 29649\n",
      "condition 6\n",
      "cylinders 8\n",
      "fuel 5\n",
      "odometer 104870\n",
      "title_status 6\n",
      "transmission 3\n",
      "VIN 118246\n",
      "drive 3\n",
      "size 4\n",
      "type 13\n",
      "paint_color 12\n",
      "state 51\n",
      "price 15655\n"
     ]
    }
   ],
   "source": [
    "for col in df.columns:\n",
    "    print(col, df[col].nunique())"
   ]
  },
  {
   "cell_type": "code",
   "execution_count": 7,
   "metadata": {
    "scrolled": false
   },
   "outputs": [
    {
     "data": {
      "text/plain": [
       "<matplotlib.axes._subplots.AxesSubplot at 0x7fe22743bd50>"
      ]
     },
     "execution_count": 7,
     "metadata": {},
     "output_type": "execute_result"
    },
    {
     "data": {
      "image/png": "[encoded data removed]",
      "text/plain": [
       "<Figure size 720x576 with 2 Axes>"
      ]
     },
     "metadata": {},
     "output_type": "display_data"
    }
   ],
   "source": [
    "sns.set(rc={'figure.figsize':(10,8)})\n",
    "sns.heatmap(df.isnull(),yticklabels=False,cbar=True,cmap='Accent')"
   ]
  },
  {
   "cell_type": "code",
   "execution_count": 8,
   "metadata": {},
   "outputs": [],
   "source": [
    "df=df.drop(columns=['VIN','state'])"
   ]
  },
  {
   "cell_type": "code",
   "execution_count": 9,
   "metadata": {},
   "outputs": [
    {
     "data": {
      "text/html": [
       "<div>\n",
       "<style scoped>\n",
       "    .dataframe tbody tr th:only-of-type {\n",
       "        vertical-align: middle;\n",
       "    }\n",
       "\n",
       "    .dataframe tbody tr th {\n",
       "        vertical-align: top;\n",
       "    }\n",
       "\n",
       "    .dataframe thead th {\n",
       "        text-align: right;\n",
       "    }\n",
       "</style>\n",
       "<table border=\"1\" class=\"dataframe\">\n",
       "  <thead>\n",
       "    <tr style=\"text-align: right;\">\n",
       "      <th></th>\n",
       "      <th>id</th>\n",
       "      <th>region</th>\n",
       "      <th>year</th>\n",
       "      <th>manufacturer</th>\n",
       "      <th>model</th>\n",
       "      <th>condition</th>\n",
       "      <th>cylinders</th>\n",
       "      <th>fuel</th>\n",
       "      <th>odometer</th>\n",
       "      <th>title_status</th>\n",
       "      <th>transmission</th>\n",
       "      <th>drive</th>\n",
       "      <th>size</th>\n",
       "      <th>type</th>\n",
       "      <th>paint_color</th>\n",
       "      <th>price</th>\n",
       "    </tr>\n",
       "  </thead>\n",
       "  <tbody>\n",
       "    <tr>\n",
       "      <th>0</th>\n",
       "      <td>7222695916</td>\n",
       "      <td>prescott</td>\n",
       "      <td>NaN</td>\n",
       "      <td>NaN</td>\n",
       "      <td>NaN</td>\n",
       "      <td>NaN</td>\n",
       "      <td>NaN</td>\n",
       "      <td>NaN</td>\n",
       "      <td>NaN</td>\n",
       "      <td>NaN</td>\n",
       "      <td>NaN</td>\n",
       "      <td>NaN</td>\n",
       "      <td>NaN</td>\n",
       "      <td>NaN</td>\n",
       "      <td>NaN</td>\n",
       "      <td>6000</td>\n",
       "    </tr>\n",
       "    <tr>\n",
       "      <th>1</th>\n",
       "      <td>7218891961</td>\n",
       "      <td>fayetteville</td>\n",
       "      <td>NaN</td>\n",
       "      <td>NaN</td>\n",
       "      <td>NaN</td>\n",
       "      <td>NaN</td>\n",
       "      <td>NaN</td>\n",
       "      <td>NaN</td>\n",
       "      <td>NaN</td>\n",
       "      <td>NaN</td>\n",
       "      <td>NaN</td>\n",
       "      <td>NaN</td>\n",
       "      <td>NaN</td>\n",
       "      <td>NaN</td>\n",
       "      <td>NaN</td>\n",
       "      <td>11900</td>\n",
       "    </tr>\n",
       "    <tr>\n",
       "      <th>2</th>\n",
       "      <td>7221797935</td>\n",
       "      <td>florida keys</td>\n",
       "      <td>NaN</td>\n",
       "      <td>NaN</td>\n",
       "      <td>NaN</td>\n",
       "      <td>NaN</td>\n",
       "      <td>NaN</td>\n",
       "      <td>NaN</td>\n",
       "      <td>NaN</td>\n",
       "      <td>NaN</td>\n",
       "      <td>NaN</td>\n",
       "      <td>NaN</td>\n",
       "      <td>NaN</td>\n",
       "      <td>NaN</td>\n",
       "      <td>NaN</td>\n",
       "      <td>21000</td>\n",
       "    </tr>\n",
       "    <tr>\n",
       "      <th>3</th>\n",
       "      <td>7222270760</td>\n",
       "      <td>worcester / central MA</td>\n",
       "      <td>NaN</td>\n",
       "      <td>NaN</td>\n",
       "      <td>NaN</td>\n",
       "      <td>NaN</td>\n",
       "      <td>NaN</td>\n",
       "      <td>NaN</td>\n",
       "      <td>NaN</td>\n",
       "      <td>NaN</td>\n",
       "      <td>NaN</td>\n",
       "      <td>NaN</td>\n",
       "      <td>NaN</td>\n",
       "      <td>NaN</td>\n",
       "      <td>NaN</td>\n",
       "      <td>1500</td>\n",
       "    </tr>\n",
       "    <tr>\n",
       "      <th>4</th>\n",
       "      <td>7210384030</td>\n",
       "      <td>greensboro</td>\n",
       "      <td>NaN</td>\n",
       "      <td>NaN</td>\n",
       "      <td>NaN</td>\n",
       "      <td>NaN</td>\n",
       "      <td>NaN</td>\n",
       "      <td>NaN</td>\n",
       "      <td>NaN</td>\n",
       "      <td>NaN</td>\n",
       "      <td>NaN</td>\n",
       "      <td>NaN</td>\n",
       "      <td>NaN</td>\n",
       "      <td>NaN</td>\n",
       "      <td>NaN</td>\n",
       "      <td>4900</td>\n",
       "    </tr>\n",
       "  </tbody>\n",
       "</table>\n",
       "</div>"
      ],
      "text/plain": [
       "           id                  region  year manufacturer model condition  \\\n",
       "0  7222695916                prescott   NaN          NaN   NaN       NaN   \n",
       "1  7218891961            fayetteville   NaN          NaN   NaN       NaN   \n",
       "2  7221797935            florida keys   NaN          NaN   NaN       NaN   \n",
       "3  7222270760  worcester / central MA   NaN          NaN   NaN       NaN   \n",
       "4  7210384030              greensboro   NaN          NaN   NaN       NaN   \n",
       "\n",
       "  cylinders fuel  odometer title_status transmission drive size type  \\\n",
       "0       NaN  NaN       NaN          NaN          NaN   NaN  NaN  NaN   \n",
       "1       NaN  NaN       NaN          NaN          NaN   NaN  NaN  NaN   \n",
       "2       NaN  NaN       NaN          NaN          NaN   NaN  NaN  NaN   \n",
       "3       NaN  NaN       NaN          NaN          NaN   NaN  NaN  NaN   \n",
       "4       NaN  NaN       NaN          NaN          NaN   NaN  NaN  NaN   \n",
       "\n",
       "  paint_color  price  \n",
       "0         NaN   6000  \n",
       "1         NaN  11900  \n",
       "2         NaN  21000  \n",
       "3         NaN   1500  \n",
       "4         NaN   4900  "
      ]
     },
     "execution_count": 9,
     "metadata": {},
     "output_type": "execute_result"
    }
   ],
   "source": [
    "df.head()"
   ]
  },
  {
   "cell_type": "code",
   "execution_count": 10,
   "metadata": {},
   "outputs": [],
   "source": [
    "num_col=['year','odometer']\n",
    "cat_cols=['region','manufacturer','model','condition','cylinders','fuel','title_status','transmission','drive','size','type','paint_color']"
   ]
  },
  {
   "cell_type": "code",
   "execution_count": 11,
   "metadata": {},
   "outputs": [],
   "source": [
    "# Label Encoding of Categorical Variables\n",
    "\n",
    "from sklearn.preprocessing import LabelEncoder\n",
    "\n",
    "original=deepcopy(df_master)\n",
    "mask=df[cat_cols].isnull()\n",
    "\n",
    "df[cat_cols]=df[cat_cols].astype(str).apply(LabelEncoder().fit_transform)\n",
    "df[cat_cols]=df[cat_cols].where(~mask, original)"
   ]
  },
  {
   "cell_type": "code",
   "execution_count": 12,
   "metadata": {},
   "outputs": [
    {
     "data": {
      "text/plain": [
       "good         121456\n",
       "excellent    101467\n",
       "like new      21178\n",
       "fair           6769\n",
       "new            1305\n",
       "salvage         601\n",
       "Name: condition, dtype: int64"
      ]
     },
     "execution_count": 12,
     "metadata": {},
     "output_type": "execute_result"
    }
   ],
   "source": [
    "df_master.condition.value_counts()"
   ]
  },
  {
   "cell_type": "code",
   "execution_count": 13,
   "metadata": {},
   "outputs": [
    {
     "data": {
      "text/plain": [
       "2    121456\n",
       "0    101467\n",
       "3     21178\n",
       "1      6769\n",
       "5      1305\n",
       "6       601\n",
       "Name: condition, dtype: int64"
      ]
     },
     "execution_count": 13,
     "metadata": {},
     "output_type": "execute_result"
    }
   ],
   "source": [
    "df.condition.value_counts()"
   ]
  },
  {
   "cell_type": "code",
   "execution_count": 14,
   "metadata": {},
   "outputs": [
    {
     "data": {
      "text/html": [
       "<div>\n",
       "<style scoped>\n",
       "    .dataframe tbody tr th:only-of-type {\n",
       "        vertical-align: middle;\n",
       "    }\n",
       "\n",
       "    .dataframe tbody tr th {\n",
       "        vertical-align: top;\n",
       "    }\n",
       "\n",
       "    .dataframe thead th {\n",
       "        text-align: right;\n",
       "    }\n",
       "</style>\n",
       "<table border=\"1\" class=\"dataframe\">\n",
       "  <thead>\n",
       "    <tr style=\"text-align: right;\">\n",
       "      <th></th>\n",
       "      <th>id</th>\n",
       "      <th>region</th>\n",
       "      <th>year</th>\n",
       "      <th>manufacturer</th>\n",
       "      <th>model</th>\n",
       "      <th>condition</th>\n",
       "      <th>cylinders</th>\n",
       "      <th>fuel</th>\n",
       "      <th>odometer</th>\n",
       "      <th>title_status</th>\n",
       "      <th>transmission</th>\n",
       "      <th>drive</th>\n",
       "      <th>size</th>\n",
       "      <th>type</th>\n",
       "      <th>paint_color</th>\n",
       "      <th>price</th>\n",
       "    </tr>\n",
       "  </thead>\n",
       "  <tbody>\n",
       "    <tr>\n",
       "      <th>30</th>\n",
       "      <td>7316743432</td>\n",
       "      <td>16</td>\n",
       "      <td>2017.0</td>\n",
       "      <td>40</td>\n",
       "      <td>27851</td>\n",
       "      <td>2</td>\n",
       "      <td>6</td>\n",
       "      <td>2</td>\n",
       "      <td>41124.0</td>\n",
       "      <td>0</td>\n",
       "      <td>3</td>\n",
       "      <td>NaN</td>\n",
       "      <td>NaN</td>\n",
       "      <td>9</td>\n",
       "      <td>9</td>\n",
       "      <td>30990</td>\n",
       "    </tr>\n",
       "    <tr>\n",
       "      <th>31</th>\n",
       "      <td>7316356412</td>\n",
       "      <td>16</td>\n",
       "      <td>2013.0</td>\n",
       "      <td>13</td>\n",
       "      <td>14513</td>\n",
       "      <td>0</td>\n",
       "      <td>5</td>\n",
       "      <td>2</td>\n",
       "      <td>128000.0</td>\n",
       "      <td>0</td>\n",
       "      <td>0</td>\n",
       "      <td>3</td>\n",
       "      <td>1</td>\n",
       "      <td>11</td>\n",
       "      <td>0</td>\n",
       "      <td>15000</td>\n",
       "    </tr>\n",
       "    <tr>\n",
       "      <th>32</th>\n",
       "      <td>7316343444</td>\n",
       "      <td>16</td>\n",
       "      <td>2012.0</td>\n",
       "      <td>14</td>\n",
       "      <td>24472</td>\n",
       "      <td>2</td>\n",
       "      <td>6</td>\n",
       "      <td>2</td>\n",
       "      <td>68696.0</td>\n",
       "      <td>0</td>\n",
       "      <td>3</td>\n",
       "      <td>0</td>\n",
       "      <td>NaN</td>\n",
       "      <td>9</td>\n",
       "      <td>0</td>\n",
       "      <td>27990</td>\n",
       "    </tr>\n",
       "    <tr>\n",
       "      <th>33</th>\n",
       "      <td>7316304717</td>\n",
       "      <td>16</td>\n",
       "      <td>2016.0</td>\n",
       "      <td>7</td>\n",
       "      <td>24803</td>\n",
       "      <td>2</td>\n",
       "      <td>5</td>\n",
       "      <td>2</td>\n",
       "      <td>29499.0</td>\n",
       "      <td>0</td>\n",
       "      <td>3</td>\n",
       "      <td>0</td>\n",
       "      <td>NaN</td>\n",
       "      <td>9</td>\n",
       "      <td>10</td>\n",
       "      <td>34590</td>\n",
       "    </tr>\n",
       "    <tr>\n",
       "      <th>34</th>\n",
       "      <td>7316285779</td>\n",
       "      <td>16</td>\n",
       "      <td>2019.0</td>\n",
       "      <td>40</td>\n",
       "      <td>26341</td>\n",
       "      <td>0</td>\n",
       "      <td>5</td>\n",
       "      <td>2</td>\n",
       "      <td>43000.0</td>\n",
       "      <td>0</td>\n",
       "      <td>0</td>\n",
       "      <td>0</td>\n",
       "      <td>NaN</td>\n",
       "      <td>11</td>\n",
       "      <td>5</td>\n",
       "      <td>35000</td>\n",
       "    </tr>\n",
       "    <tr>\n",
       "      <th>35</th>\n",
       "      <td>7316257769</td>\n",
       "      <td>16</td>\n",
       "      <td>2016.0</td>\n",
       "      <td>7</td>\n",
       "      <td>11008</td>\n",
       "      <td>2</td>\n",
       "      <td>5</td>\n",
       "      <td>2</td>\n",
       "      <td>17302.0</td>\n",
       "      <td>0</td>\n",
       "      <td>3</td>\n",
       "      <td>0</td>\n",
       "      <td>NaN</td>\n",
       "      <td>9</td>\n",
       "      <td>9</td>\n",
       "      <td>29990</td>\n",
       "    </tr>\n",
       "    <tr>\n",
       "      <th>36</th>\n",
       "      <td>7316133914</td>\n",
       "      <td>16</td>\n",
       "      <td>2011.0</td>\n",
       "      <td>7</td>\n",
       "      <td>11444</td>\n",
       "      <td>2</td>\n",
       "      <td>6</td>\n",
       "      <td>2</td>\n",
       "      <td>30237.0</td>\n",
       "      <td>0</td>\n",
       "      <td>3</td>\n",
       "      <td>3</td>\n",
       "      <td>NaN</td>\n",
       "      <td>8</td>\n",
       "      <td>9</td>\n",
       "      <td>38590</td>\n",
       "    </tr>\n",
       "    <tr>\n",
       "      <th>37</th>\n",
       "      <td>7316130053</td>\n",
       "      <td>16</td>\n",
       "      <td>1992.0</td>\n",
       "      <td>20</td>\n",
       "      <td>10366</td>\n",
       "      <td>0</td>\n",
       "      <td>5</td>\n",
       "      <td>2</td>\n",
       "      <td>192000.0</td>\n",
       "      <td>0</td>\n",
       "      <td>0</td>\n",
       "      <td>0</td>\n",
       "      <td>NaN</td>\n",
       "      <td>NaN</td>\n",
       "      <td>NaN</td>\n",
       "      <td>4500</td>\n",
       "    </tr>\n",
       "    <tr>\n",
       "      <th>38</th>\n",
       "      <td>7315816316</td>\n",
       "      <td>16</td>\n",
       "      <td>2017.0</td>\n",
       "      <td>20</td>\n",
       "      <td>28690</td>\n",
       "      <td>2</td>\n",
       "      <td>5</td>\n",
       "      <td>2</td>\n",
       "      <td>30041.0</td>\n",
       "      <td>0</td>\n",
       "      <td>3</td>\n",
       "      <td>0</td>\n",
       "      <td>NaN</td>\n",
       "      <td>8</td>\n",
       "      <td>10</td>\n",
       "      <td>32990</td>\n",
       "    </tr>\n",
       "    <tr>\n",
       "      <th>39</th>\n",
       "      <td>7315770394</td>\n",
       "      <td>16</td>\n",
       "      <td>2017.0</td>\n",
       "      <td>7</td>\n",
       "      <td>24890</td>\n",
       "      <td>2</td>\n",
       "      <td>5</td>\n",
       "      <td>2</td>\n",
       "      <td>40784.0</td>\n",
       "      <td>0</td>\n",
       "      <td>3</td>\n",
       "      <td>NaN</td>\n",
       "      <td>NaN</td>\n",
       "      <td>9</td>\n",
       "      <td>11</td>\n",
       "      <td>24590</td>\n",
       "    </tr>\n",
       "  </tbody>\n",
       "</table>\n",
       "</div>"
      ],
      "text/plain": [
       "            id  region    year manufacturer  model condition cylinders fuel  \\\n",
       "30  7316743432      16  2017.0           40  27851         2         6    2   \n",
       "31  7316356412      16  2013.0           13  14513         0         5    2   \n",
       "32  7316343444      16  2012.0           14  24472         2         6    2   \n",
       "33  7316304717      16  2016.0            7  24803         2         5    2   \n",
       "34  7316285779      16  2019.0           40  26341         0         5    2   \n",
       "35  7316257769      16  2016.0            7  11008         2         5    2   \n",
       "36  7316133914      16  2011.0            7  11444         2         6    2   \n",
       "37  7316130053      16  1992.0           20  10366         0         5    2   \n",
       "38  7315816316      16  2017.0           20  28690         2         5    2   \n",
       "39  7315770394      16  2017.0            7  24890         2         5    2   \n",
       "\n",
       "    odometer title_status transmission drive size type paint_color  price  \n",
       "30   41124.0            0            3   NaN  NaN    9           9  30990  \n",
       "31  128000.0            0            0     3    1   11           0  15000  \n",
       "32   68696.0            0            3     0  NaN    9           0  27990  \n",
       "33   29499.0            0            3     0  NaN    9          10  34590  \n",
       "34   43000.0            0            0     0  NaN   11           5  35000  \n",
       "35   17302.0            0            3     0  NaN    9           9  29990  \n",
       "36   30237.0            0            3     3  NaN    8           9  38590  \n",
       "37  192000.0            0            0     0  NaN  NaN         NaN   4500  \n",
       "38   30041.0            0            3     0  NaN    8          10  32990  \n",
       "39   40784.0            0            3   NaN  NaN    9          11  24590  "
      ]
     },
     "execution_count": 14,
     "metadata": {},
     "output_type": "execute_result"
    }
   ],
   "source": [
    "df.iloc[30:40]"
   ]
  },
  {
   "cell_type": "code",
   "execution_count": 15,
   "metadata": {},
   "outputs": [],
   "source": [
    "from sklearn.linear_model import BayesianRidge\n",
    "from sklearn.pipeline import make_pipeline\n",
    "from sklearn.impute import SimpleImputer\n",
    "from sklearn.model_selection import cross_val_score\n",
    "import numpy as np"
   ]
  },
  {
   "cell_type": "code",
   "execution_count": 16,
   "metadata": {},
   "outputs": [],
   "source": [
    "check_imputer=deepcopy(df)"
   ]
  },
  {
   "cell_type": "code",
   "execution_count": 17,
   "metadata": {},
   "outputs": [],
   "source": [
    "# Estimate the score on the entire dataset by filling missing values by mean and median\n",
    "\n",
    "br_estimator = BayesianRidge() #base estimator\n",
    "N_SPLITS = 6  #defining the cross-validation splitting strategy\n",
    "\n",
    "score_simple_imputer = pd.DataFrame() #dataframe to store error of imputer\n",
    "\n",
    "#computing MSE for mean and median\n",
    "for strategy in ('mean', 'median'):\n",
    "    X=check_imputer.iloc[:,:-1]\n",
    "    y=check_imputer.iloc[:,-1]\n",
    "    estimator = make_pipeline(SimpleImputer(missing_values=np.nan, strategy=strategy), br_estimator)\n",
    "    score_simple_imputer[strategy] = cross_val_score(estimator, X, y, scoring='neg_mean_squared_error', cv=N_SPLITS)"
   ]
  },
  {
   "cell_type": "code",
   "execution_count": 18,
   "metadata": {},
   "outputs": [
    {
     "data": {
      "text/html": [
       "<div>\n",
       "<style scoped>\n",
       "    .dataframe tbody tr th:only-of-type {\n",
       "        vertical-align: middle;\n",
       "    }\n",
       "\n",
       "    .dataframe tbody tr th {\n",
       "        vertical-align: top;\n",
       "    }\n",
       "\n",
       "    .dataframe thead th {\n",
       "        text-align: right;\n",
       "    }\n",
       "</style>\n",
       "<table border=\"1\" class=\"dataframe\">\n",
       "  <thead>\n",
       "    <tr style=\"text-align: right;\">\n",
       "      <th></th>\n",
       "      <th>mean</th>\n",
       "      <th>median</th>\n",
       "    </tr>\n",
       "  </thead>\n",
       "  <tbody>\n",
       "    <tr>\n",
       "      <th>0</th>\n",
       "      <td>-1.758766e+14</td>\n",
       "      <td>-1.758765e+14</td>\n",
       "    </tr>\n",
       "    <tr>\n",
       "      <th>1</th>\n",
       "      <td>-1.425351e+14</td>\n",
       "      <td>-1.425351e+14</td>\n",
       "    </tr>\n",
       "    <tr>\n",
       "      <th>2</th>\n",
       "      <td>-4.980197e+13</td>\n",
       "      <td>-4.980197e+13</td>\n",
       "    </tr>\n",
       "    <tr>\n",
       "      <th>3</th>\n",
       "      <td>-1.290644e+14</td>\n",
       "      <td>-1.290644e+14</td>\n",
       "    </tr>\n",
       "    <tr>\n",
       "      <th>4</th>\n",
       "      <td>-1.967277e+14</td>\n",
       "      <td>-1.967277e+14</td>\n",
       "    </tr>\n",
       "    <tr>\n",
       "      <th>5</th>\n",
       "      <td>-1.965037e+14</td>\n",
       "      <td>-1.965037e+14</td>\n",
       "    </tr>\n",
       "  </tbody>\n",
       "</table>\n",
       "</div>"
      ],
      "text/plain": [
       "           mean        median\n",
       "0 -1.758766e+14 -1.758765e+14\n",
       "1 -1.425351e+14 -1.425351e+14\n",
       "2 -4.980197e+13 -4.980197e+13\n",
       "3 -1.290644e+14 -1.290644e+14\n",
       "4 -1.967277e+14 -1.967277e+14\n",
       "5 -1.965037e+14 -1.965037e+14"
      ]
     },
     "execution_count": 18,
     "metadata": {},
     "output_type": "execute_result"
    }
   ],
   "source": [
    "score_simple_imputer"
   ]
  },
  {
   "cell_type": "code",
   "execution_count": 19,
   "metadata": {},
   "outputs": [],
   "source": [
    "from sklearn.ensemble import ExtraTreesRegressor\n",
    "from sklearn.tree import DecisionTreeRegressor\n",
    "from sklearn.neighbors import KNeighborsRegressor\n",
    "from sklearn.experimental import enable_iterative_imputer\n",
    "from sklearn.impute import IterativeImputer"
   ]
  },
  {
   "cell_type": "code",
   "execution_count": 20,
   "metadata": {},
   "outputs": [],
   "source": [
    "# Estimate the score on the entire dataset by filling missing values by 4 different iterative imputer\n",
    "\n",
    "# Estimators for IterativeImputer\n",
    "estimators = [BayesianRidge(),\n",
    "              DecisionTreeRegressor(max_features='sqrt', random_state=0),\n",
    "              ExtraTreesRegressor(n_estimators=10, random_state=0),\n",
    "              KNeighborsRegressor(n_neighbors=15)]\n",
    "\n",
    "score_iterative_imputer = pd.DataFrame()"
   ]
  },
  {
   "cell_type": "code",
   "execution_count": 21,
   "metadata": {},
   "outputs": [],
   "source": [
    "# data_x = {\n",
    "#     'ProductID': [101, 102, 103, 104, 105, 106, 107, 108, 109, 110],\n",
    "#     'ProductName': ['Widget A', np.nan, 'Widget C', 'Widget A', 'Widget B',\n",
    "#                     'Widget C', 'Widget A', np.nan, 'Widget C', 'Widget A'],\n",
    "#     'Category': ['Electronics', np.nan, np.nan, 'Electronics', 'Electronics',\n",
    "#                  'Clothing', np.nan, 'Electronics', 'Clothing', 'Electronics'],\n",
    "#     'SalesPrice': [19.99, 29.99, 14.99, np.nan, 29.99, 14.99, np.nan, 29.99, 14.99, 19.99],\n",
    "#     'QuantitySold': [np.nan, 30, 70, np.nan, np.nan, 80, 55, 40, 65, 75]\n",
    "# }\n",
    "\n",
    "# dfx = pd.DataFrame(data_x)\n",
    "# dfx"
   ]
  },
  {
   "cell_type": "code",
   "execution_count": 22,
   "metadata": {},
   "outputs": [
    {
     "name": "stdout",
     "output_type": "stream",
     "text": [
      "Estimating BayesianRidge\n",
      "Estimating DecisionTreeRegressor\n",
      "Estimating ExtraTreesRegressor\n",
      "Estimating KNeighborsRegressor\n"
     ]
    }
   ],
   "source": [
    "for esti in estimators:\n",
    "        print(\"Estimating\",esti.__class__.__name__)\n",
    "        imputer = IterativeImputer(esti)\n",
    "        df_new=check_imputer.copy()\n",
    "        \n",
    "        for col in check_imputer.columns:\n",
    "            df_new[col]=imputer.fit_transform(df_new[[col]])\n",
    "        X=df_new.iloc[:,:-1]\n",
    "        y=check_imputer.iloc[:,-1:]\n",
    "        \n",
    "        score_iterative_imputer[esti.__class__.__name__]=cross_val_score(esti,X,y,scoring='neg_mean_squared_error',cv=6)"
   ]
  },
  {
   "cell_type": "code",
   "execution_count": 23,
   "metadata": {},
   "outputs": [
    {
     "data": {
      "text/html": [
       "<div>\n",
       "<style scoped>\n",
       "    .dataframe tbody tr th:only-of-type {\n",
       "        vertical-align: middle;\n",
       "    }\n",
       "\n",
       "    .dataframe tbody tr th {\n",
       "        vertical-align: top;\n",
       "    }\n",
       "\n",
       "    .dataframe thead th {\n",
       "        text-align: right;\n",
       "    }\n",
       "</style>\n",
       "<table border=\"1\" class=\"dataframe\">\n",
       "  <thead>\n",
       "    <tr style=\"text-align: right;\">\n",
       "      <th></th>\n",
       "      <th>BayesianRidge</th>\n",
       "      <th>DecisionTreeRegressor</th>\n",
       "      <th>ExtraTreesRegressor</th>\n",
       "      <th>KNeighborsRegressor</th>\n",
       "    </tr>\n",
       "  </thead>\n",
       "  <tbody>\n",
       "    <tr>\n",
       "      <th>0</th>\n",
       "      <td>-1.758766e+14</td>\n",
       "      <td>-1.760424e+14</td>\n",
       "      <td>-2.080080e+14</td>\n",
       "      <td>-1.797418e+14</td>\n",
       "    </tr>\n",
       "    <tr>\n",
       "      <th>1</th>\n",
       "      <td>-1.425351e+14</td>\n",
       "      <td>-5.350984e+14</td>\n",
       "      <td>-1.720020e+14</td>\n",
       "      <td>-1.328450e+14</td>\n",
       "    </tr>\n",
       "    <tr>\n",
       "      <th>2</th>\n",
       "      <td>-4.980196e+13</td>\n",
       "      <td>-1.032393e+14</td>\n",
       "      <td>-8.827691e+13</td>\n",
       "      <td>-6.869161e+13</td>\n",
       "    </tr>\n",
       "    <tr>\n",
       "      <th>3</th>\n",
       "      <td>-1.290644e+14</td>\n",
       "      <td>-1.464032e+14</td>\n",
       "      <td>-1.934478e+14</td>\n",
       "      <td>-1.309985e+14</td>\n",
       "    </tr>\n",
       "    <tr>\n",
       "      <th>4</th>\n",
       "      <td>-1.967277e+14</td>\n",
       "      <td>-1.968658e+14</td>\n",
       "      <td>-2.407799e+14</td>\n",
       "      <td>-2.024961e+14</td>\n",
       "    </tr>\n",
       "    <tr>\n",
       "      <th>5</th>\n",
       "      <td>-1.965037e+14</td>\n",
       "      <td>-5.139734e+14</td>\n",
       "      <td>-2.282923e+14</td>\n",
       "      <td>-2.156728e+14</td>\n",
       "    </tr>\n",
       "  </tbody>\n",
       "</table>\n",
       "</div>"
      ],
      "text/plain": [
       "   BayesianRidge  DecisionTreeRegressor  ExtraTreesRegressor  \\\n",
       "0  -1.758766e+14          -1.760424e+14        -2.080080e+14   \n",
       "1  -1.425351e+14          -5.350984e+14        -1.720020e+14   \n",
       "2  -4.980196e+13          -1.032393e+14        -8.827691e+13   \n",
       "3  -1.290644e+14          -1.464032e+14        -1.934478e+14   \n",
       "4  -1.967277e+14          -1.968658e+14        -2.407799e+14   \n",
       "5  -1.965037e+14          -5.139734e+14        -2.282923e+14   \n",
       "\n",
       "   KNeighborsRegressor  \n",
       "0        -1.797418e+14  \n",
       "1        -1.328450e+14  \n",
       "2        -6.869161e+13  \n",
       "3        -1.309985e+14  \n",
       "4        -2.024961e+14  \n",
       "5        -2.156728e+14  "
      ]
     },
     "execution_count": 23,
     "metadata": {},
     "output_type": "execute_result"
    }
   ],
   "source": [
    "score_iterative_imputer"
   ]
  },
  {
   "cell_type": "code",
   "execution_count": 25,
   "metadata": {},
   "outputs": [],
   "source": [
    "import matplotlib.pyplot as plt"
   ]
  },
  {
   "cell_type": "code",
   "execution_count": 26,
   "metadata": {},
   "outputs": [
    {
     "data": {
      "image/png": "[encoded data removed]",
      "text/plain": [
       "<Figure size 864x432 with 1 Axes>"
      ]
     },
     "metadata": {},
     "output_type": "display_data"
    }
   ],
   "source": [
    "#ploting the graphs of scores each method\n",
    "scores = pd.concat(\n",
    "    [score_simple_imputer, score_iterative_imputer],\n",
    "    keys=['SimpleImputer', 'IterativeImputer'], axis=1\n",
    ")\n",
    "fig, ax = plt.subplots(figsize=(12, 6))\n",
    "means = -scores.mean()\n",
    "errors = scores.std()\n",
    "means.plot.barh(xerr=errors, ax=ax)\n",
    "ax.set_title('MSE with Different Imputation Methods')\n",
    "ax.set_xlabel('MSE (smaller value is better)')\n",
    "ax.set_yticks(np.arange(means.shape[0]))\n",
    "ax.set_yticklabels(means.index.tolist())\n",
    "plt.tight_layout(pad=1)\n",
    "plt.savefig('different-imputations-method',dpi=None)\n",
    "plt.show()"
   ]
  },
  {
   "cell_type": "markdown",
   "metadata": {},
   "source": [
    "### Filling Numerical Values"
   ]
  },
  {
   "cell_type": "code",
   "execution_count": 27,
   "metadata": {},
   "outputs": [
    {
     "data": {
      "text/plain": [
       "year        1205\n",
       "odometer    4400\n",
       "dtype: int64"
      ]
     },
     "execution_count": 27,
     "metadata": {},
     "output_type": "execute_result"
    }
   ],
   "source": [
    "df.isnull().sum()[num_col]"
   ]
  },
  {
   "cell_type": "code",
   "execution_count": 28,
   "metadata": {},
   "outputs": [],
   "source": [
    "df_num=df[num_col]\n",
    "imputer_num=IterativeImputer(estimators[2]) #estimators[2] = ExtraTreesRegressor\n",
    "impute_data=imputer_num.fit_transform(df_num)\n",
    "df[num_col]=impute_data"
   ]
  },
  {
   "cell_type": "code",
   "execution_count": 29,
   "metadata": {},
   "outputs": [
    {
     "data": {
      "text/plain": [
       "year        0\n",
       "odometer    0\n",
       "dtype: int64"
      ]
     },
     "execution_count": 29,
     "metadata": {},
     "output_type": "execute_result"
    }
   ],
   "source": [
    "df.isnull().sum()[num_col]"
   ]
  },
  {
   "cell_type": "code",
   "execution_count": 30,
   "metadata": {},
   "outputs": [
    {
     "data": {
      "text/plain": [
       "region               0\n",
       "manufacturer     17646\n",
       "model             5277\n",
       "condition       174104\n",
       "cylinders       177678\n",
       "fuel              3013\n",
       "title_status      8242\n",
       "transmission      2556\n",
       "drive           130567\n",
       "size            306361\n",
       "type             92858\n",
       "paint_color     130203\n",
       "dtype: int64"
      ]
     },
     "execution_count": 30,
     "metadata": {},
     "output_type": "execute_result"
    }
   ],
   "source": [
    "df.isnull().sum()[cat_cols]"
   ]
  },
  {
   "cell_type": "code",
   "execution_count": 31,
   "metadata": {},
   "outputs": [],
   "source": [
    "# df_xx=deepcopy(df)"
   ]
  },
  {
   "cell_type": "code",
   "execution_count": 32,
   "metadata": {},
   "outputs": [],
   "source": [
    "for col in cat_cols:\n",
    "    imputer = IterativeImputer(BayesianRidge())\n",
    "    df[col]=imputer.fit_transform(df[[col]])"
   ]
  },
  {
   "cell_type": "code",
   "execution_count": 33,
   "metadata": {
    "scrolled": true
   },
   "outputs": [],
   "source": [
    "# data_cat=data[cat_cols]\n",
    "# encoder=preprocessing.LabelEncoder()\n",
    "\n",
    "# #create a for loop to iterate through each column in the data\n",
    "# for columns in cat_cols:\n",
    "#     encode(data_cat[columns])\n",
    "#     impute_data=imputer.fit_transform(data_cat[columns].values.reshape(-1, 1))\n",
    "#     impute_data=impute_data.astype('int64')\n",
    "#     impute_data = pd.DataFrame(impute_data)\n",
    "#     impute_data =encoder.inverse_transform(impute_data.values.reshape(-1, 1))\n",
    "#     data_cat[columns]=impute_data\n",
    "# data[cat_cols]=data_cat"
   ]
  },
  {
   "cell_type": "code",
   "execution_count": 34,
   "metadata": {},
   "outputs": [
    {
     "data": {
      "text/html": [
       "<div>\n",
       "<style scoped>\n",
       "    .dataframe tbody tr th:only-of-type {\n",
       "        vertical-align: middle;\n",
       "    }\n",
       "\n",
       "    .dataframe tbody tr th {\n",
       "        vertical-align: top;\n",
       "    }\n",
       "\n",
       "    .dataframe thead th {\n",
       "        text-align: right;\n",
       "    }\n",
       "</style>\n",
       "<table border=\"1\" class=\"dataframe\">\n",
       "  <thead>\n",
       "    <tr style=\"text-align: right;\">\n",
       "      <th></th>\n",
       "      <th>id</th>\n",
       "      <th>region</th>\n",
       "      <th>year</th>\n",
       "      <th>manufacturer</th>\n",
       "      <th>model</th>\n",
       "      <th>condition</th>\n",
       "      <th>cylinders</th>\n",
       "      <th>fuel</th>\n",
       "      <th>odometer</th>\n",
       "      <th>title_status</th>\n",
       "      <th>transmission</th>\n",
       "      <th>drive</th>\n",
       "      <th>size</th>\n",
       "      <th>type</th>\n",
       "      <th>paint_color</th>\n",
       "      <th>price</th>\n",
       "    </tr>\n",
       "  </thead>\n",
       "  <tbody>\n",
       "    <tr>\n",
       "      <th>0</th>\n",
       "      <td>7222695916</td>\n",
       "      <td>277.0</td>\n",
       "      <td>2012.941667</td>\n",
       "      <td>19.052601</td>\n",
       "      <td>16739.145891</td>\n",
       "      <td>1.27918</td>\n",
       "      <td>4.634369</td>\n",
       "      <td>2.083828</td>\n",
       "      <td>38969.0</td>\n",
       "      <td>0.150834</td>\n",
       "      <td>0.502361</td>\n",
       "      <td>0.952348</td>\n",
       "      <td>1.204731</td>\n",
       "      <td>6.699586</td>\n",
       "      <td>6.192394</td>\n",
       "      <td>6000</td>\n",
       "    </tr>\n",
       "    <tr>\n",
       "      <th>1</th>\n",
       "      <td>7218891961</td>\n",
       "      <td>105.0</td>\n",
       "      <td>2012.941667</td>\n",
       "      <td>19.052601</td>\n",
       "      <td>16739.145891</td>\n",
       "      <td>1.27918</td>\n",
       "      <td>4.634369</td>\n",
       "      <td>2.083828</td>\n",
       "      <td>38969.0</td>\n",
       "      <td>0.150834</td>\n",
       "      <td>0.502361</td>\n",
       "      <td>0.952348</td>\n",
       "      <td>1.204731</td>\n",
       "      <td>6.699586</td>\n",
       "      <td>6.192394</td>\n",
       "      <td>11900</td>\n",
       "    </tr>\n",
       "    <tr>\n",
       "      <th>2</th>\n",
       "      <td>7221797935</td>\n",
       "      <td>111.0</td>\n",
       "      <td>2012.941667</td>\n",
       "      <td>19.052601</td>\n",
       "      <td>16739.145891</td>\n",
       "      <td>1.27918</td>\n",
       "      <td>4.634369</td>\n",
       "      <td>2.083828</td>\n",
       "      <td>38969.0</td>\n",
       "      <td>0.150834</td>\n",
       "      <td>0.502361</td>\n",
       "      <td>0.952348</td>\n",
       "      <td>1.204731</td>\n",
       "      <td>6.699586</td>\n",
       "      <td>6.192394</td>\n",
       "      <td>21000</td>\n",
       "    </tr>\n",
       "    <tr>\n",
       "      <th>3</th>\n",
       "      <td>7222270760</td>\n",
       "      <td>396.0</td>\n",
       "      <td>2012.941667</td>\n",
       "      <td>19.052601</td>\n",
       "      <td>16739.145891</td>\n",
       "      <td>1.27918</td>\n",
       "      <td>4.634369</td>\n",
       "      <td>2.083828</td>\n",
       "      <td>38969.0</td>\n",
       "      <td>0.150834</td>\n",
       "      <td>0.502361</td>\n",
       "      <td>0.952348</td>\n",
       "      <td>1.204731</td>\n",
       "      <td>6.699586</td>\n",
       "      <td>6.192394</td>\n",
       "      <td>1500</td>\n",
       "    </tr>\n",
       "    <tr>\n",
       "      <th>4</th>\n",
       "      <td>7210384030</td>\n",
       "      <td>131.0</td>\n",
       "      <td>2012.941667</td>\n",
       "      <td>19.052601</td>\n",
       "      <td>16739.145891</td>\n",
       "      <td>1.27918</td>\n",
       "      <td>4.634369</td>\n",
       "      <td>2.083828</td>\n",
       "      <td>38969.0</td>\n",
       "      <td>0.150834</td>\n",
       "      <td>0.502361</td>\n",
       "      <td>0.952348</td>\n",
       "      <td>1.204731</td>\n",
       "      <td>6.699586</td>\n",
       "      <td>6.192394</td>\n",
       "      <td>4900</td>\n",
       "    </tr>\n",
       "  </tbody>\n",
       "</table>\n",
       "</div>"
      ],
      "text/plain": [
       "           id  region         year  manufacturer         model  condition  \\\n",
       "0  7222695916   277.0  2012.941667     19.052601  16739.145891    1.27918   \n",
       "1  7218891961   105.0  2012.941667     19.052601  16739.145891    1.27918   \n",
       "2  7221797935   111.0  2012.941667     19.052601  16739.145891    1.27918   \n",
       "3  7222270760   396.0  2012.941667     19.052601  16739.145891    1.27918   \n",
       "4  7210384030   131.0  2012.941667     19.052601  16739.145891    1.27918   \n",
       "\n",
       "   cylinders      fuel  odometer  title_status  transmission     drive  \\\n",
       "0   4.634369  2.083828   38969.0      0.150834      0.502361  0.952348   \n",
       "1   4.634369  2.083828   38969.0      0.150834      0.502361  0.952348   \n",
       "2   4.634369  2.083828   38969.0      0.150834      0.502361  0.952348   \n",
       "3   4.634369  2.083828   38969.0      0.150834      0.502361  0.952348   \n",
       "4   4.634369  2.083828   38969.0      0.150834      0.502361  0.952348   \n",
       "\n",
       "       size      type  paint_color  price  \n",
       "0  1.204731  6.699586     6.192394   6000  \n",
       "1  1.204731  6.699586     6.192394  11900  \n",
       "2  1.204731  6.699586     6.192394  21000  \n",
       "3  1.204731  6.699586     6.192394   1500  \n",
       "4  1.204731  6.699586     6.192394   4900  "
      ]
     },
     "execution_count": 34,
     "metadata": {},
     "output_type": "execute_result"
    }
   ],
   "source": [
    "df.head()"
   ]
  },
  {
   "cell_type": "code",
   "execution_count": 35,
   "metadata": {},
   "outputs": [
    {
     "data": {
      "text/plain": [
       "<matplotlib.axes._subplots.AxesSubplot at 0x7fe200227190>"
      ]
     },
     "execution_count": 35,
     "metadata": {},
     "output_type": "execute_result"
    },
    {
     "data": {
      "image/png": "[encoded data removed]",
      "text/plain": [
       "<Figure size 720x576 with 2 Axes>"
      ]
     },
     "metadata": {},
     "output_type": "display_data"
    }
   ],
   "source": [
    "sns.heatmap(df.isnull(),yticklabels=False,cbar=True,cmap='Accent')"
   ]
  },
  {
   "cell_type": "code",
   "execution_count": 36,
   "metadata": {},
   "outputs": [],
   "source": [
    "ckpt=deepcopy(df)"
   ]
  },
  {
   "cell_type": "code",
   "execution_count": 48,
   "metadata": {},
   "outputs": [],
   "source": [
    "#it will return the range of the variables and the values outside this range will be outliers\n",
    "def outliers(arr,col):\n",
    "    q1,q3=(arr[col].quantile([0.25,0.75]))\n",
    "    IQR=q3-q1\n",
    "    x1=q1-1.5*IQR\n",
    "    x2=q3+1.5*IQR\n",
    "    return (x1,x2)"
   ]
  },
  {
   "cell_type": "code",
   "execution_count": null,
   "metadata": {},
   "outputs": [],
   "source": [
    "def min_max_price(df):\n",
    "    r=[]\n",
    "    q1,q3=(df['logprice'].quantile([0.25,0.75]))\n",
    "    r.append(q1-1.5*(q3-q1))\n",
    "    r.append(q3+1.5*(q3-q1))\n",
    "    return (r)\n",
    "df['logprice'] = np.log(df['price'])\n",
    "x=df['logprice']\n",
    "price_range=list(range(0,int(max(df['logprice']))+1))\n",
    "red_square = dict(markerfacecolor='g', marker='s')\n",
    "plt.boxplot(x, vert=False)\n",
    "plt.xticks(price_range)\n",
    "plt.text(min_max_price(df)[0]-0.3,1.05,str(round(min_max_price(df)[0],2)))\n",
    "plt.text(min_max_price(df)[1]-0.5,1.05,str(round(min_max_price(df)[1],2)))\n",
    "plt.title(\"Figure 1: Box Plot of Price\")\n",
    "# plt.savefig('graph-boxplot-price.jpg')\n",
    "plt.show()"
   ]
  },
  {
   "cell_type": "code",
   "execution_count": null,
   "metadata": {},
   "outputs": [],
   "source": [
    "fig, ax1 = plt.subplots()\n",
    "ax1.set_title('Figure 2: Box Plot of Odometer')\n",
    "ax1.boxplot(df['odometer'], vert=False, flierprops=red_square)\n",
    "plt.savefig('graph-boxplot-odometer.jpg')\n",
    "plt.show()"
   ]
  },
  {
   "cell_type": "code",
   "execution_count": 49,
   "metadata": {},
   "outputs": [
    {
     "data": {
      "image/png": "[encoded data removed]",
      "text/plain": [
       "<Figure size 864x360 with 2 Axes>"
      ]
     },
     "metadata": {},
     "output_type": "display_data"
    }
   ],
   "source": [
    "fig,(ax1,ax2)=plt.subplots(ncols=2,figsize=(12,5))\n",
    "\n",
    "#ploting boxplot\n",
    "o1,o2=outliers(df,'year')\n",
    "ax1.boxplot(sorted(df['year']), vert=False, flierprops=red_square)\n",
    "ax1.set_xlabel(\"Years\")\n",
    "ax1.set_title(\"Figure 3: Box Plot of Year\")\n",
    "ax1.text(o1-8,1.05,str(round(o1,2)))\n",
    "\n",
    "#ploting histogram\n",
    "hist,bins=np.histogram(df['year'])\n",
    "n, bins, patches = ax2.hist(x=df['year'], bins=bins)\n",
    "ax2.set_xlabel(\"Years\")\n",
    "ax2.set_title(\"Figure 4: Histogram of Year\")\n",
    "for i in range(len(n)):\n",
    "    if(n[i]>2000):\n",
    "        ax2.text(bins[i],n[i]+3000,str(n[i]))\n",
    "\n",
    "plt.tight_layout()\n",
    "plt.savefig('graph-barplot-histogram-year.jpg',dpi=1200)\n",
    "plt.show()"
   ]
  },
  {
   "cell_type": "code",
   "execution_count": 50,
   "metadata": {},
   "outputs": [
    {
     "name": "stdout",
     "output_type": "stream",
     "text": [
      "IQR of logprice = 6.430098455893903 12.43705625322699\n",
      "IQR of odometer = -107802.5 282281.5\n",
      "IQR of year = 1994.5 2030.5\n"
     ]
    }
   ],
   "source": [
    "#removing outliers \n",
    "df_new=df.copy()\n",
    "out=np.array(['logprice','odometer','year'])\n",
    "for col in out:\n",
    "    o1,o2=outliers(df_new,col)\n",
    "    df_new=df_new[(df_new[col]>=o1) & (df_new[col]<=o2)]\n",
    "    print('IQR of',col,'=',o1,o2)\n",
    "df_new=df_new[df_new['price']!=0]\n",
    "df_new.drop('logprice',axis=1,inplace=True)"
   ]
  },
  {
   "cell_type": "code",
   "execution_count": 51,
   "metadata": {},
   "outputs": [
    {
     "data": {
      "text/html": [
       "<div>\n",
       "<style scoped>\n",
       "    .dataframe tbody tr th:only-of-type {\n",
       "        vertical-align: middle;\n",
       "    }\n",
       "\n",
       "    .dataframe tbody tr th {\n",
       "        vertical-align: top;\n",
       "    }\n",
       "\n",
       "    .dataframe thead th {\n",
       "        text-align: right;\n",
       "    }\n",
       "</style>\n",
       "<table border=\"1\" class=\"dataframe\">\n",
       "  <thead>\n",
       "    <tr style=\"text-align: right;\">\n",
       "      <th></th>\n",
       "      <th>id</th>\n",
       "      <th>region</th>\n",
       "      <th>year</th>\n",
       "      <th>manufacturer</th>\n",
       "      <th>model</th>\n",
       "      <th>condition</th>\n",
       "      <th>cylinders</th>\n",
       "      <th>fuel</th>\n",
       "      <th>odometer</th>\n",
       "      <th>title_status</th>\n",
       "      <th>transmission</th>\n",
       "      <th>drive</th>\n",
       "      <th>size</th>\n",
       "      <th>type</th>\n",
       "      <th>paint_color</th>\n",
       "      <th>price</th>\n",
       "    </tr>\n",
       "  </thead>\n",
       "  <tbody>\n",
       "    <tr>\n",
       "      <th>0</th>\n",
       "      <td>7222695916</td>\n",
       "      <td>277.0</td>\n",
       "      <td>2012.65</td>\n",
       "      <td>19.052601</td>\n",
       "      <td>16739.145891</td>\n",
       "      <td>1.27918</td>\n",
       "      <td>4.634369</td>\n",
       "      <td>2.083828</td>\n",
       "      <td>51326.0</td>\n",
       "      <td>0.150834</td>\n",
       "      <td>0.502361</td>\n",
       "      <td>0.952348</td>\n",
       "      <td>1.204731</td>\n",
       "      <td>6.699586</td>\n",
       "      <td>6.192394</td>\n",
       "      <td>6000</td>\n",
       "    </tr>\n",
       "    <tr>\n",
       "      <th>1</th>\n",
       "      <td>7218891961</td>\n",
       "      <td>105.0</td>\n",
       "      <td>2012.65</td>\n",
       "      <td>19.052601</td>\n",
       "      <td>16739.145891</td>\n",
       "      <td>1.27918</td>\n",
       "      <td>4.634369</td>\n",
       "      <td>2.083828</td>\n",
       "      <td>51326.0</td>\n",
       "      <td>0.150834</td>\n",
       "      <td>0.502361</td>\n",
       "      <td>0.952348</td>\n",
       "      <td>1.204731</td>\n",
       "      <td>6.699586</td>\n",
       "      <td>6.192394</td>\n",
       "      <td>11900</td>\n",
       "    </tr>\n",
       "    <tr>\n",
       "      <th>2</th>\n",
       "      <td>7221797935</td>\n",
       "      <td>111.0</td>\n",
       "      <td>2012.65</td>\n",
       "      <td>19.052601</td>\n",
       "      <td>16739.145891</td>\n",
       "      <td>1.27918</td>\n",
       "      <td>4.634369</td>\n",
       "      <td>2.083828</td>\n",
       "      <td>51326.0</td>\n",
       "      <td>0.150834</td>\n",
       "      <td>0.502361</td>\n",
       "      <td>0.952348</td>\n",
       "      <td>1.204731</td>\n",
       "      <td>6.699586</td>\n",
       "      <td>6.192394</td>\n",
       "      <td>21000</td>\n",
       "    </tr>\n",
       "    <tr>\n",
       "      <th>3</th>\n",
       "      <td>7222270760</td>\n",
       "      <td>396.0</td>\n",
       "      <td>2012.65</td>\n",
       "      <td>19.052601</td>\n",
       "      <td>16739.145891</td>\n",
       "      <td>1.27918</td>\n",
       "      <td>4.634369</td>\n",
       "      <td>2.083828</td>\n",
       "      <td>51326.0</td>\n",
       "      <td>0.150834</td>\n",
       "      <td>0.502361</td>\n",
       "      <td>0.952348</td>\n",
       "      <td>1.204731</td>\n",
       "      <td>6.699586</td>\n",
       "      <td>6.192394</td>\n",
       "      <td>1500</td>\n",
       "    </tr>\n",
       "    <tr>\n",
       "      <th>4</th>\n",
       "      <td>7210384030</td>\n",
       "      <td>131.0</td>\n",
       "      <td>2012.65</td>\n",
       "      <td>19.052601</td>\n",
       "      <td>16739.145891</td>\n",
       "      <td>1.27918</td>\n",
       "      <td>4.634369</td>\n",
       "      <td>2.083828</td>\n",
       "      <td>51326.0</td>\n",
       "      <td>0.150834</td>\n",
       "      <td>0.502361</td>\n",
       "      <td>0.952348</td>\n",
       "      <td>1.204731</td>\n",
       "      <td>6.699586</td>\n",
       "      <td>6.192394</td>\n",
       "      <td>4900</td>\n",
       "    </tr>\n",
       "  </tbody>\n",
       "</table>\n",
       "</div>"
      ],
      "text/plain": [
       "           id  region     year  manufacturer         model  condition  \\\n",
       "0  7222695916   277.0  2012.65     19.052601  16739.145891    1.27918   \n",
       "1  7218891961   105.0  2012.65     19.052601  16739.145891    1.27918   \n",
       "2  7221797935   111.0  2012.65     19.052601  16739.145891    1.27918   \n",
       "3  7222270760   396.0  2012.65     19.052601  16739.145891    1.27918   \n",
       "4  7210384030   131.0  2012.65     19.052601  16739.145891    1.27918   \n",
       "\n",
       "   cylinders      fuel  odometer  title_status  transmission     drive  \\\n",
       "0   4.634369  2.083828   51326.0      0.150834      0.502361  0.952348   \n",
       "1   4.634369  2.083828   51326.0      0.150834      0.502361  0.952348   \n",
       "2   4.634369  2.083828   51326.0      0.150834      0.502361  0.952348   \n",
       "3   4.634369  2.083828   51326.0      0.150834      0.502361  0.952348   \n",
       "4   4.634369  2.083828   51326.0      0.150834      0.502361  0.952348   \n",
       "\n",
       "       size      type  paint_color  price  \n",
       "0  1.204731  6.699586     6.192394   6000  \n",
       "1  1.204731  6.699586     6.192394  11900  \n",
       "2  1.204731  6.699586     6.192394  21000  \n",
       "3  1.204731  6.699586     6.192394   1500  \n",
       "4  1.204731  6.699586     6.192394   4900  "
      ]
     },
     "execution_count": 51,
     "metadata": {},
     "output_type": "execute_result"
    }
   ],
   "source": [
    "df_new.head()"
   ]
  },
  {
   "cell_type": "code",
   "execution_count": 52,
   "metadata": {},
   "outputs": [
    {
     "name": "stdout",
     "output_type": "stream",
     "text": [
      "Shape before process= (426880, 17)\n",
      "Shape After process= (364420, 16)\n",
      "Total 62460 rows and 1 cols removed\n"
     ]
    }
   ],
   "source": [
    "print(\"Shape before process=\",df.shape)\n",
    "print(\"Shape After process=\",df_new.shape)\n",
    "diff=df.shape[0]-df_new.shape[0]\n",
    "print(\"Total {} rows and {} cols removed\".format(diff,df.shape[1]-df_new.shape[1]))\n",
    "df_new.to_csv(\"vehiclesFinal.csv\",index=False)"
   ]
  },
  {
   "cell_type": "code",
   "execution_count": 53,
   "metadata": {},
   "outputs": [
    {
     "data": {
      "text/html": [
       "<div>\n",
       "<style scoped>\n",
       "    .dataframe tbody tr th:only-of-type {\n",
       "        vertical-align: middle;\n",
       "    }\n",
       "\n",
       "    .dataframe tbody tr th {\n",
       "        vertical-align: top;\n",
       "    }\n",
       "\n",
       "    .dataframe thead th {\n",
       "        text-align: right;\n",
       "    }\n",
       "</style>\n",
       "<table border=\"1\" class=\"dataframe\">\n",
       "  <thead>\n",
       "    <tr style=\"text-align: right;\">\n",
       "      <th></th>\n",
       "      <th>region</th>\n",
       "      <th>year</th>\n",
       "      <th>manufacturer</th>\n",
       "      <th>model</th>\n",
       "      <th>condition</th>\n",
       "      <th>cylinders</th>\n",
       "      <th>fuel</th>\n",
       "      <th>odometer</th>\n",
       "      <th>title_status</th>\n",
       "      <th>transmission</th>\n",
       "      <th>drive</th>\n",
       "      <th>size</th>\n",
       "      <th>type</th>\n",
       "      <th>paint_color</th>\n",
       "      <th>price</th>\n",
       "    </tr>\n",
       "  </thead>\n",
       "  <tbody>\n",
       "    <tr>\n",
       "      <th>0</th>\n",
       "      <td>277.0</td>\n",
       "      <td>2012.65</td>\n",
       "      <td>19.052601</td>\n",
       "      <td>16739.145891</td>\n",
       "      <td>1.27918</td>\n",
       "      <td>4.634369</td>\n",
       "      <td>2.083828</td>\n",
       "      <td>51326.0</td>\n",
       "      <td>0.150834</td>\n",
       "      <td>0.502361</td>\n",
       "      <td>0.952348</td>\n",
       "      <td>1.204731</td>\n",
       "      <td>6.699586</td>\n",
       "      <td>6.192394</td>\n",
       "      <td>6000</td>\n",
       "    </tr>\n",
       "    <tr>\n",
       "      <th>1</th>\n",
       "      <td>105.0</td>\n",
       "      <td>2012.65</td>\n",
       "      <td>19.052601</td>\n",
       "      <td>16739.145891</td>\n",
       "      <td>1.27918</td>\n",
       "      <td>4.634369</td>\n",
       "      <td>2.083828</td>\n",
       "      <td>51326.0</td>\n",
       "      <td>0.150834</td>\n",
       "      <td>0.502361</td>\n",
       "      <td>0.952348</td>\n",
       "      <td>1.204731</td>\n",
       "      <td>6.699586</td>\n",
       "      <td>6.192394</td>\n",
       "      <td>11900</td>\n",
       "    </tr>\n",
       "    <tr>\n",
       "      <th>2</th>\n",
       "      <td>111.0</td>\n",
       "      <td>2012.65</td>\n",
       "      <td>19.052601</td>\n",
       "      <td>16739.145891</td>\n",
       "      <td>1.27918</td>\n",
       "      <td>4.634369</td>\n",
       "      <td>2.083828</td>\n",
       "      <td>51326.0</td>\n",
       "      <td>0.150834</td>\n",
       "      <td>0.502361</td>\n",
       "      <td>0.952348</td>\n",
       "      <td>1.204731</td>\n",
       "      <td>6.699586</td>\n",
       "      <td>6.192394</td>\n",
       "      <td>21000</td>\n",
       "    </tr>\n",
       "    <tr>\n",
       "      <th>3</th>\n",
       "      <td>396.0</td>\n",
       "      <td>2012.65</td>\n",
       "      <td>19.052601</td>\n",
       "      <td>16739.145891</td>\n",
       "      <td>1.27918</td>\n",
       "      <td>4.634369</td>\n",
       "      <td>2.083828</td>\n",
       "      <td>51326.0</td>\n",
       "      <td>0.150834</td>\n",
       "      <td>0.502361</td>\n",
       "      <td>0.952348</td>\n",
       "      <td>1.204731</td>\n",
       "      <td>6.699586</td>\n",
       "      <td>6.192394</td>\n",
       "      <td>1500</td>\n",
       "    </tr>\n",
       "    <tr>\n",
       "      <th>4</th>\n",
       "      <td>131.0</td>\n",
       "      <td>2012.65</td>\n",
       "      <td>19.052601</td>\n",
       "      <td>16739.145891</td>\n",
       "      <td>1.27918</td>\n",
       "      <td>4.634369</td>\n",
       "      <td>2.083828</td>\n",
       "      <td>51326.0</td>\n",
       "      <td>0.150834</td>\n",
       "      <td>0.502361</td>\n",
       "      <td>0.952348</td>\n",
       "      <td>1.204731</td>\n",
       "      <td>6.699586</td>\n",
       "      <td>6.192394</td>\n",
       "      <td>4900</td>\n",
       "    </tr>\n",
       "  </tbody>\n",
       "</table>\n",
       "</div>"
      ],
      "text/plain": [
       "   region     year  manufacturer         model  condition  cylinders  \\\n",
       "0   277.0  2012.65     19.052601  16739.145891    1.27918   4.634369   \n",
       "1   105.0  2012.65     19.052601  16739.145891    1.27918   4.634369   \n",
       "2   111.0  2012.65     19.052601  16739.145891    1.27918   4.634369   \n",
       "3   396.0  2012.65     19.052601  16739.145891    1.27918   4.634369   \n",
       "4   131.0  2012.65     19.052601  16739.145891    1.27918   4.634369   \n",
       "\n",
       "       fuel  odometer  title_status  transmission     drive      size  \\\n",
       "0  2.083828   51326.0      0.150834      0.502361  0.952348  1.204731   \n",
       "1  2.083828   51326.0      0.150834      0.502361  0.952348  1.204731   \n",
       "2  2.083828   51326.0      0.150834      0.502361  0.952348  1.204731   \n",
       "3  2.083828   51326.0      0.150834      0.502361  0.952348  1.204731   \n",
       "4  2.083828   51326.0      0.150834      0.502361  0.952348  1.204731   \n",
       "\n",
       "       type  paint_color  price  \n",
       "0  6.699586     6.192394   6000  \n",
       "1  6.699586     6.192394  11900  \n",
       "2  6.699586     6.192394  21000  \n",
       "3  6.699586     6.192394   1500  \n",
       "4  6.699586     6.192394   4900  "
      ]
     },
     "execution_count": 53,
     "metadata": {},
     "output_type": "execute_result"
    }
   ],
   "source": [
    "#Loading Dataframe\n",
    "\n",
    "#df=pd.read_csv(\"vehiclesFinal2.csv\")\n",
    "df=pd.read_csv(\"vehiclesFinal.csv\")\n",
    "#df=df.drop('Unnamed: 0',axis=1)\n",
    "df=df.drop('id',axis=1)\n",
    "\n",
    "df2=df.copy()\n",
    "df.head()"
   ]
  },
  {
   "cell_type": "code",
   "execution_count": 55,
   "metadata": {},
   "outputs": [],
   "source": [
    "from sklearn import preprocessing"
   ]
  },
  {
   "cell_type": "code",
   "execution_count": 56,
   "metadata": {},
   "outputs": [
    {
     "data": {
      "text/html": [
       "<div>\n",
       "<style scoped>\n",
       "    .dataframe tbody tr th:only-of-type {\n",
       "        vertical-align: middle;\n",
       "    }\n",
       "\n",
       "    .dataframe tbody tr th {\n",
       "        vertical-align: top;\n",
       "    }\n",
       "\n",
       "    .dataframe thead th {\n",
       "        text-align: right;\n",
       "    }\n",
       "</style>\n",
       "<table border=\"1\" class=\"dataframe\">\n",
       "  <thead>\n",
       "    <tr style=\"text-align: right;\">\n",
       "      <th></th>\n",
       "      <th>region</th>\n",
       "      <th>year</th>\n",
       "      <th>manufacturer</th>\n",
       "      <th>model</th>\n",
       "      <th>condition</th>\n",
       "      <th>cylinders</th>\n",
       "      <th>fuel</th>\n",
       "      <th>odometer</th>\n",
       "      <th>title_status</th>\n",
       "      <th>transmission</th>\n",
       "      <th>drive</th>\n",
       "      <th>size</th>\n",
       "      <th>type</th>\n",
       "      <th>paint_color</th>\n",
       "      <th>price</th>\n",
       "    </tr>\n",
       "  </thead>\n",
       "  <tbody>\n",
       "    <tr>\n",
       "      <th>0</th>\n",
       "      <td>277</td>\n",
       "      <td>2012.65</td>\n",
       "      <td>19</td>\n",
       "      <td>12940</td>\n",
       "      <td>2</td>\n",
       "      <td>5</td>\n",
       "      <td>3</td>\n",
       "      <td>51326.0</td>\n",
       "      <td>1</td>\n",
       "      <td>1</td>\n",
       "      <td>1</td>\n",
       "      <td>2</td>\n",
       "      <td>6</td>\n",
       "      <td>6</td>\n",
       "      <td>6000</td>\n",
       "    </tr>\n",
       "    <tr>\n",
       "      <th>1</th>\n",
       "      <td>105</td>\n",
       "      <td>2012.65</td>\n",
       "      <td>19</td>\n",
       "      <td>12940</td>\n",
       "      <td>2</td>\n",
       "      <td>5</td>\n",
       "      <td>3</td>\n",
       "      <td>51326.0</td>\n",
       "      <td>1</td>\n",
       "      <td>1</td>\n",
       "      <td>1</td>\n",
       "      <td>2</td>\n",
       "      <td>6</td>\n",
       "      <td>6</td>\n",
       "      <td>11900</td>\n",
       "    </tr>\n",
       "  </tbody>\n",
       "</table>\n",
       "</div>"
      ],
      "text/plain": [
       "   region     year  manufacturer  model  condition  cylinders  fuel  odometer  \\\n",
       "0     277  2012.65            19  12940          2          5     3   51326.0   \n",
       "1     105  2012.65            19  12940          2          5     3   51326.0   \n",
       "\n",
       "   title_status  transmission  drive  size  type  paint_color  price  \n",
       "0             1             1      1     2     6            6   6000  \n",
       "1             1             1      1     2     6            6  11900  "
      ]
     },
     "execution_count": 56,
     "metadata": {},
     "output_type": "execute_result"
    }
   ],
   "source": [
    "#defining numerical and categorical values\n",
    "\n",
    "num_col=['year','odometer','long','lat']\n",
    "cat_cols=['region','manufacturer','model','condition','cylinders','fuel','title_status','transmission','drive','size','type','paint_color']\n",
    "\n",
    "le=preprocessing.LabelEncoder()\n",
    "df[cat_cols]=df[cat_cols].apply(le.fit_transform)\n",
    "df.head(2)"
   ]
  },
  {
   "cell_type": "code",
   "execution_count": 57,
   "metadata": {},
   "outputs": [],
   "source": [
    "from sklearn.preprocessing import StandardScaler\n",
    "from sklearn.preprocessing import MinMaxScaler"
   ]
  },
  {
   "cell_type": "code",
   "execution_count": 58,
   "metadata": {},
   "outputs": [],
   "source": [
    "#scaling numerical data\n",
    "\n",
    "norm = StandardScaler()\n",
    "df['price'] = np.log(df['price'])\n",
    "df['odometer'] = norm.fit_transform(np.array(df['odometer']).reshape(-1,1))\n",
    "df['year'] = norm.fit_transform(np.array(df['year']).reshape(-1,1))\n",
    "df['model'] = norm.fit_transform(np.array(df['model']).reshape(-1,1))\n",
    "\n",
    "#scaling target variable\n",
    "q1,q3=(df['price'].quantile([0.25,0.75]))\n",
    "o1=q1-1.5*(q3-q1)\n",
    "o2=q3+1.5*(q3-q1)\n",
    "df=df[(df.price>=o1) & (df.price<=o2)]\n",
    "\n",
    "df['region'] = norm.fit_transform(np.array(df['region']).reshape(-1,1))"
   ]
  },
  {
   "cell_type": "code",
   "execution_count": 59,
   "metadata": {},
   "outputs": [
    {
     "data": {
      "text/html": [
       "<div>\n",
       "<style scoped>\n",
       "    .dataframe tbody tr th:only-of-type {\n",
       "        vertical-align: middle;\n",
       "    }\n",
       "\n",
       "    .dataframe tbody tr th {\n",
       "        vertical-align: top;\n",
       "    }\n",
       "\n",
       "    .dataframe thead th {\n",
       "        text-align: right;\n",
       "    }\n",
       "</style>\n",
       "<table border=\"1\" class=\"dataframe\">\n",
       "  <thead>\n",
       "    <tr style=\"text-align: right;\">\n",
       "      <th></th>\n",
       "      <th>region</th>\n",
       "      <th>year</th>\n",
       "      <th>manufacturer</th>\n",
       "      <th>model</th>\n",
       "      <th>condition</th>\n",
       "      <th>cylinders</th>\n",
       "      <th>fuel</th>\n",
       "      <th>odometer</th>\n",
       "      <th>title_status</th>\n",
       "      <th>transmission</th>\n",
       "      <th>drive</th>\n",
       "      <th>size</th>\n",
       "      <th>type</th>\n",
       "      <th>paint_color</th>\n",
       "      <th>price</th>\n",
       "    </tr>\n",
       "  </thead>\n",
       "  <tbody>\n",
       "    <tr>\n",
       "      <th>0</th>\n",
       "      <td>0.702924</td>\n",
       "      <td>0.0254</td>\n",
       "      <td>19</td>\n",
       "      <td>-0.024697</td>\n",
       "      <td>2</td>\n",
       "      <td>5</td>\n",
       "      <td>3</td>\n",
       "      <td>-0.662474</td>\n",
       "      <td>1</td>\n",
       "      <td>1</td>\n",
       "      <td>1</td>\n",
       "      <td>2</td>\n",
       "      <td>6</td>\n",
       "      <td>6</td>\n",
       "      <td>8.699515</td>\n",
       "    </tr>\n",
       "    <tr>\n",
       "      <th>1</th>\n",
       "      <td>-0.751876</td>\n",
       "      <td>0.0254</td>\n",
       "      <td>19</td>\n",
       "      <td>-0.024697</td>\n",
       "      <td>2</td>\n",
       "      <td>5</td>\n",
       "      <td>3</td>\n",
       "      <td>-0.662474</td>\n",
       "      <td>1</td>\n",
       "      <td>1</td>\n",
       "      <td>1</td>\n",
       "      <td>2</td>\n",
       "      <td>6</td>\n",
       "      <td>6</td>\n",
       "      <td>9.384294</td>\n",
       "    </tr>\n",
       "    <tr>\n",
       "      <th>2</th>\n",
       "      <td>-0.701128</td>\n",
       "      <td>0.0254</td>\n",
       "      <td>19</td>\n",
       "      <td>-0.024697</td>\n",
       "      <td>2</td>\n",
       "      <td>5</td>\n",
       "      <td>3</td>\n",
       "      <td>-0.662474</td>\n",
       "      <td>1</td>\n",
       "      <td>1</td>\n",
       "      <td>1</td>\n",
       "      <td>2</td>\n",
       "      <td>6</td>\n",
       "      <td>6</td>\n",
       "      <td>9.952278</td>\n",
       "    </tr>\n",
       "    <tr>\n",
       "      <th>3</th>\n",
       "      <td>1.709444</td>\n",
       "      <td>0.0254</td>\n",
       "      <td>19</td>\n",
       "      <td>-0.024697</td>\n",
       "      <td>2</td>\n",
       "      <td>5</td>\n",
       "      <td>3</td>\n",
       "      <td>-0.662474</td>\n",
       "      <td>1</td>\n",
       "      <td>1</td>\n",
       "      <td>1</td>\n",
       "      <td>2</td>\n",
       "      <td>6</td>\n",
       "      <td>6</td>\n",
       "      <td>7.313220</td>\n",
       "    </tr>\n",
       "    <tr>\n",
       "      <th>4</th>\n",
       "      <td>-0.531965</td>\n",
       "      <td>0.0254</td>\n",
       "      <td>19</td>\n",
       "      <td>-0.024697</td>\n",
       "      <td>2</td>\n",
       "      <td>5</td>\n",
       "      <td>3</td>\n",
       "      <td>-0.662474</td>\n",
       "      <td>1</td>\n",
       "      <td>1</td>\n",
       "      <td>1</td>\n",
       "      <td>2</td>\n",
       "      <td>6</td>\n",
       "      <td>6</td>\n",
       "      <td>8.496990</td>\n",
       "    </tr>\n",
       "  </tbody>\n",
       "</table>\n",
       "</div>"
      ],
      "text/plain": [
       "     region    year  manufacturer     model  condition  cylinders  fuel  \\\n",
       "0  0.702924  0.0254            19 -0.024697          2          5     3   \n",
       "1 -0.751876  0.0254            19 -0.024697          2          5     3   \n",
       "2 -0.701128  0.0254            19 -0.024697          2          5     3   \n",
       "3  1.709444  0.0254            19 -0.024697          2          5     3   \n",
       "4 -0.531965  0.0254            19 -0.024697          2          5     3   \n",
       "\n",
       "   odometer  title_status  transmission  drive  size  type  paint_color  \\\n",
       "0 -0.662474             1             1      1     2     6            6   \n",
       "1 -0.662474             1             1      1     2     6            6   \n",
       "2 -0.662474             1             1      1     2     6            6   \n",
       "3 -0.662474             1             1      1     2     6            6   \n",
       "4 -0.662474             1             1      1     2     6            6   \n",
       "\n",
       "      price  \n",
       "0  8.699515  \n",
       "1  9.384294  \n",
       "2  9.952278  \n",
       "3  7.313220  \n",
       "4  8.496990  "
      ]
     },
     "execution_count": 59,
     "metadata": {},
     "output_type": "execute_result"
    }
   ],
   "source": [
    "df.head()"
   ]
  },
  {
   "cell_type": "code",
   "execution_count": 60,
   "metadata": {},
   "outputs": [
    {
     "name": "stdout",
     "output_type": "stream",
     "text": [
      "<class 'pandas.core.frame.DataFrame'>\n",
      "Int64Index: 360685 entries, 0 to 364419\n",
      "Data columns (total 15 columns):\n",
      "region          360685 non-null float64\n",
      "year            360685 non-null float64\n",
      "manufacturer    360685 non-null int64\n",
      "model           360685 non-null float64\n",
      "condition       360685 non-null int64\n",
      "cylinders       360685 non-null int64\n",
      "fuel            360685 non-null int64\n",
      "odometer        360685 non-null float64\n",
      "title_status    360685 non-null int64\n",
      "transmission    360685 non-null int64\n",
      "drive           360685 non-null int64\n",
      "size            360685 non-null int64\n",
      "type            360685 non-null int64\n",
      "paint_color     360685 non-null int64\n",
      "price           360685 non-null float64\n",
      "dtypes: float64(5), int64(10)\n",
      "memory usage: 44.0 MB\n"
     ]
    }
   ],
   "source": [
    "df.info()"
   ]
  },
  {
   "cell_type": "code",
   "execution_count": 61,
   "metadata": {},
   "outputs": [
    {
     "data": {
      "text/plain": [
       "(360685, 15)"
      ]
     },
     "execution_count": 61,
     "metadata": {},
     "output_type": "execute_result"
    }
   ],
   "source": [
    "df.shape"
   ]
  },
  {
   "cell_type": "code",
   "execution_count": 62,
   "metadata": {},
   "outputs": [],
   "source": [
    "y=df.price\n",
    "X=df.drop(['price'], axis=1)\n",
    "\n",
    "from sklearn.model_selection import train_test_split\n",
    "X_train, X_test, y_train, y_test = train_test_split(X, y, test_size=0.1, random_state=42)"
   ]
  },
  {
   "cell_type": "code",
   "execution_count": 63,
   "metadata": {},
   "outputs": [
    {
     "data": {
      "text/plain": [
       "((324616, 14), (36069, 14))"
      ]
     },
     "execution_count": 63,
     "metadata": {},
     "output_type": "execute_result"
    }
   ],
   "source": [
    "X_train.shape, X_test.shape"
   ]
  },
  {
   "cell_type": "code",
   "execution_count": 64,
   "metadata": {},
   "outputs": [
    {
     "data": {
      "text/plain": [
       "(0, 0)"
      ]
     },
     "execution_count": 64,
     "metadata": {},
     "output_type": "execute_result"
    }
   ],
   "source": [
    "y_train.isna().sum(), y_test.isna().sum()"
   ]
  },
  {
   "cell_type": "code",
   "execution_count": 65,
   "metadata": {},
   "outputs": [],
   "source": [
    "# #some of models will predict neg values so this function will remove that values\n",
    "# def remove_neg(y_test,y_pred):\n",
    "#     ind=[index for index in range(len(y_pred)) if(y_pred[index]>0)]\n",
    "#     y_pred=y_pred[ind]\n",
    "#     y_test=y_test[ind]\n",
    "#     y_pred[y_pred<0]\n",
    "#     return (y_test,y_pred)\n",
    "\n",
    "# #function for evaluation of model\n",
    "# def result(y_test,y_pred):\n",
    "#     r=[]\n",
    "#     r.append(mean_squared_log_error(y_test, y_pred))\n",
    "#     r.append(np.sqrt(r[0]))\n",
    "#     r.append(r2_score(y_test,y_pred))\n",
    "#     r.append(round(r2_score(y_test,y_pred)*100,4))\n",
    "#     return (r)\n",
    "\n",
    "# #dataframe that store the performance of each model\n",
    "# accu=pd.DataFrame(index=['MSLE', 'Root MSLE', 'R2 Score','Accuracy(%)'])"
   ]
  },
  {
   "cell_type": "code",
   "execution_count": 66,
   "metadata": {},
   "outputs": [],
   "source": [
    "\n",
    "#libraries for models\n",
    "from sklearn.linear_model import LinearRegression\n",
    "\n",
    "from sklearn.linear_model import Ridge\n",
    "from sklearn.linear_model import LassoCV,RidgeCV\n",
    "# from yellowbrick.regressor import AlphaSelection\n",
    "\n",
    "from sklearn.linear_model import Lasso\n",
    "from sklearn.neighbors import KNeighborsRegressor\n",
    "from sklearn.ensemble import RandomForestRegressor\n",
    "from sklearn.ensemble import BaggingRegressor\n",
    "from sklearn.tree import DecisionTreeRegressor\n",
    "from sklearn.svm import SVR\n",
    "from sklearn.ensemble import AdaBoostRegressor"
   ]
  },
  {
   "cell_type": "code",
   "execution_count": 67,
   "metadata": {},
   "outputs": [],
   "source": [
    "from sklearn.metrics import mean_squared_log_error,r2_score,mean_squared_error"
   ]
  },
  {
   "cell_type": "code",
   "execution_count": 68,
   "metadata": {},
   "outputs": [],
   "source": [
    "#fitting model\n",
    "LR=LinearRegression()\n",
    "LR.fit(X_train,y_train)\n",
    "y_pred=LR.predict(X_test)"
   ]
  },
  {
   "cell_type": "code",
   "execution_count": 69,
   "metadata": {},
   "outputs": [
    {
     "data": {
      "text/plain": [
       "array([10.654282, 10.189285,  9.850576, ...,  8.964837,  8.708475,\n",
       "        8.611251], dtype=float32)"
      ]
     },
     "execution_count": 69,
     "metadata": {},
     "output_type": "execute_result"
    }
   ],
   "source": [
    "y_pred = y_pred.astype('float32')\n",
    "y_pred"
   ]
  },
  {
   "cell_type": "code",
   "execution_count": 70,
   "metadata": {},
   "outputs": [
    {
     "data": {
      "text/plain": [
       "(False, False)"
      ]
     },
     "execution_count": 70,
     "metadata": {},
     "output_type": "execute_result"
    }
   ],
   "source": [
    "np.any(np.isnan(y_pred)), np.any(np.isinf(y_pred))"
   ]
  },
  {
   "cell_type": "code",
   "execution_count": 71,
   "metadata": {},
   "outputs": [],
   "source": [
    "#calculating error/accuracy\n",
    "# y_test_1,y_pred_1=remove_neg(y_test,y_pred)"
   ]
  },
  {
   "cell_type": "code",
   "execution_count": 74,
   "metadata": {},
   "outputs": [
    {
     "data": {
      "text/plain": [
       "(False, False)"
      ]
     },
     "execution_count": 74,
     "metadata": {},
     "output_type": "execute_result"
    }
   ],
   "source": [
    "np.any(np.isnan(y_test)), np.any(np.isinf(y_test))"
   ]
  },
  {
   "cell_type": "code",
   "execution_count": 75,
   "metadata": {},
   "outputs": [
    {
     "name": "stdout",
     "output_type": "stream",
     "text": [
      "R-squared (R^2) Score: 0.6290885883540838\n"
     ]
    }
   ],
   "source": [
    "r2 = r2_score(y_test, y_pred)\n",
    "print(\"R-squared (R^2) Score:\", r2)"
   ]
  },
  {
   "cell_type": "code",
   "execution_count": 211,
   "metadata": {},
   "outputs": [
    {
     "name": "stdout",
     "output_type": "stream",
     "text": [
      "Coefficients: \n",
      " [-0.0028913   0.43045493 -0.00043684 -0.00180858 -0.02782306  0.20201501\n",
      " -0.15646864 -0.24803685 -0.09171148  0.05946681 -0.08577721 -0.0374591\n",
      "  0.00222084  0.00536379]\n",
      "MSLE : 0.0023827158758979233\n",
      "Root MSLE : 0.048813070748498534\n",
      "R2 Score : 0.6267925920659645 or 62.6793%\n"
     ]
    }
   ],
   "source": [
    "# r1_lr=result(y_test,y_pred)\n",
    "# print('Coefficients: \\n', LR.coef_)\n",
    "# print(\"MSLE : {}\".format(r1_lr[0]))\n",
    "# print(\"Root MSLE : {}\".format(r1_lr[1]))\n",
    "# print(\"R2 Score : {} or {}%\".format(r1_lr[2],r1_lr[3]))\n",
    "# accu['Linear Regression']=r1_lr"
   ]
  },
  {
   "cell_type": "code",
   "execution_count": 212,
   "metadata": {},
   "outputs": [
    {
     "data": {
      "image/png": "[encoded data removed]",
      "text/plain": [
       "<Figure size 432x432 with 1 Axes>"
      ]
     },
     "metadata": {},
     "output_type": "display_data"
    }
   ],
   "source": [
    "# #Ploting feature importance graph\n",
    "\n",
    "# coef = pd.Series(LR.coef_, index = X_train.columns)\n",
    "# imp_coef = coef.sort_values()\n",
    "# plt.rcParams['figure.figsize'] = (6.0, 6.0)\n",
    "# imp_coef.plot(kind = \"barh\")\n",
    "# plt.title(\"Feature importance using Linear Regression Model\")\n",
    "# plt.savefig('Linear-Regression-Feature-Importance.jpg')\n",
    "# plt.show()"
   ]
  },
  {
   "cell_type": "code",
   "execution_count": 81,
   "metadata": {},
   "outputs": [
    {
     "data": {
      "image/png": "[encoded data removed]",
      "text/plain": [
       "<Figure size 720x360 with 1 Axes>"
      ]
     },
     "metadata": {},
     "output_type": "display_data"
    }
   ],
   "source": [
    "#Visualization of true value and predicted\n",
    "\n",
    "df_check = pd.DataFrame({'Actual': y_test, 'Predicted': y_pred})\n",
    "df_check = df_check.sample(20)\n",
    "df_check.plot(kind='bar',figsize=(10,5))\n",
    "plt.grid(which='major', linestyle='-', linewidth='0.1', color='Green')\n",
    "plt.title('Performance of Linear Regression')\n",
    "# plt.savefig('Linear-Regression-Performance')\n",
    "plt.show()"
   ]
  },
  {
   "cell_type": "code",
   "execution_count": 82,
   "metadata": {},
   "outputs": [
    {
     "data": {
      "text/plain": [
       "array([10.654282, 10.189285,  9.850576, ...,  8.964837,  8.708475,\n",
       "        8.611251], dtype=float32)"
      ]
     },
     "execution_count": 82,
     "metadata": {},
     "output_type": "execute_result"
    }
   ],
   "source": [
    "y_pred"
   ]
  },
  {
   "cell_type": "code",
   "execution_count": 83,
   "metadata": {},
   "outputs": [
    {
     "name": "stdout",
     "output_type": "stream",
     "text": [
      "Best alpha: 10.0\n"
     ]
    }
   ],
   "source": [
    "from sklearn.linear_model import RidgeCV\n",
    "from sklearn.metrics import mean_squared_error\n",
    "\n",
    "# Define a range of alpha values to try\n",
    "alphas = [0.01, 0.1, 1.0, 10.0, 100]  # Add more alpha values if needed\n",
    "\n",
    "# Create a RidgeCV regression model with cross-validation\n",
    "ridge_cv = RidgeCV(alphas=alphas, store_cv_values=True)\n",
    "\n",
    "# Fit the model to the training data\n",
    "ridge_cv.fit(X_train, y_train)\n",
    "\n",
    "# Find the best alpha value chosen by cross-validation\n",
    "best_alpha = ridge_cv.alpha_\n",
    "print(\"Best alpha:\", best_alpha)\n"
   ]
  },
  {
   "cell_type": "code",
   "execution_count": 84,
   "metadata": {},
   "outputs": [],
   "source": [
    "y_pred_ridge = ridge_cv.predict(X_test)"
   ]
  },
  {
   "cell_type": "code",
   "execution_count": 85,
   "metadata": {},
   "outputs": [
    {
     "name": "stdout",
     "output_type": "stream",
     "text": [
      "R-squared (R^2) Score: 0.6290884908036688\n"
     ]
    }
   ],
   "source": [
    "r2 = r2_score(y_test, y_pred_ridge)\n",
    "print(\"R-squared (R^2) Score:\", r2)"
   ]
  },
  {
   "cell_type": "code",
   "execution_count": 217,
   "metadata": {},
   "outputs": [
    {
     "name": "stdout",
     "output_type": "stream",
     "text": [
      "Coefficients: \n",
      " [-0.00289146  0.43043426 -0.00043697 -0.0018077  -0.0278193   0.20200544\n",
      " -0.15645483 -0.24803702 -0.09170499  0.05946583 -0.0857725  -0.03745149\n",
      "  0.00222122  0.00536389]\n",
      "MSLE : 0.0023827158758979233\n",
      "Root MSLE : 0.048813070748498534\n",
      "R2 Score : 0.6267925920659645 or 62.6793%\n"
     ]
    }
   ],
   "source": [
    "# ffff =result(y_test,y_pred2)\n",
    "# print('Coefficients: \\n', ridge_cv.coef_)\n",
    "# print(\"MSLE : {}\".format(r1_lr[0]))\n",
    "# print(\"Root MSLE : {}\".format(r1_lr[1]))\n",
    "# print(\"R2 Score : {} or {}%\".format(r1_lr[2],r1_lr[3]))\n",
    "# accu['Linear Regression']=r1_lr"
   ]
  },
  {
   "cell_type": "code",
   "execution_count": 218,
   "metadata": {},
   "outputs": [
    {
     "name": "stdout",
     "output_type": "stream",
     "text": [
      "R-squared (R^2) Score: 0.6267925654335773\n"
     ]
    }
   ],
   "source": [
    "r2 = r2_score(y_test, y_pred2)\n",
    "print(\"R-squared (R^2) Score:\", r2)"
   ]
  },
  {
   "cell_type": "code",
   "execution_count": null,
   "metadata": {},
   "outputs": [],
   "source": []
  },
  {
   "cell_type": "code",
   "execution_count": 87,
   "metadata": {},
   "outputs": [
    {
     "name": "stdout",
     "output_type": "stream",
     "text": [
      "R-squared (R^2) Score: 0.6290896772303995\n"
     ]
    }
   ],
   "source": [
    "#model object and fitting it\n",
    "lasso=Lasso(alpha=0.0001)\n",
    "lasso.fit(X_train,y_train)\n",
    "y_pred_lasso=lasso.predict(X_test)\n",
    "\n",
    "r2 = r2_score(y_test, y_pred_lasso)\n",
    "print(\"R-squared (R^2) Score:\", r2)"
   ]
  },
  {
   "cell_type": "code",
   "execution_count": null,
   "metadata": {},
   "outputs": [],
   "source": []
  },
  {
   "cell_type": "code",
   "execution_count": 88,
   "metadata": {},
   "outputs": [],
   "source": [
    "RFR = RandomForestRegressor(n_estimators=100,random_state=0, min_samples_leaf=1, max_features=0.5, n_jobs=-1, oob_score=True)\n",
    "RFR.fit(X_train,y_train)\n",
    "y_pred = RFR.predict(X_test)"
   ]
  },
  {
   "cell_type": "code",
   "execution_count": 94,
   "metadata": {},
   "outputs": [
    {
     "name": "stdout",
     "output_type": "stream",
     "text": [
      "Mean Absolute Error: 0.12337246528352304\n",
      "Mean Squared Error: 0.05552599892989187\n",
      "Root Mean Squared Error: 0.23563955298271103\n",
      "R-squared: 0.9175287360735527\n"
     ]
    }
   ],
   "source": [
    "from sklearn.metrics import mean_absolute_error, mean_squared_error, r2_score\n",
    "\n",
    "mae = mean_absolute_error(y_test, y_pred)\n",
    "mse = mean_squared_error(y_test, y_pred)\n",
    "rmse = np.sqrt(mse)\n",
    "r2 = r2_score(y_test, y_pred)\n",
    "\n",
    "print(f\"Mean Absolute Error: {mae}\")\n",
    "print(f\"Mean Squared Error: {mse}\")\n",
    "print(f\"Root Mean Squared Error: {rmse}\")\n",
    "print(f\"R-squared: {r2}\")"
   ]
  },
  {
   "cell_type": "code",
   "execution_count": 95,
   "metadata": {},
   "outputs": [
    {
     "data": {
      "image/png": "[encoded data removed]",
      "text/plain": [
       "<Figure size 720x360 with 1 Axes>"
      ]
     },
     "metadata": {},
     "output_type": "display_data"
    }
   ],
   "source": [
    "#Visualization of true value and predicted\n",
    "\n",
    "df_check = pd.DataFrame({'Actual': y_test, 'Predicted': y_pred})\n",
    "df_check = df_check.sample(20)\n",
    "df_check.plot(kind='bar',figsize=(10,5))\n",
    "plt.grid(which='major', linestyle='-', linewidth='0.1', color='Green')\n",
    "plt.title('Performance of Random Forest')\n",
    "plt.show()"
   ]
  },
  {
   "cell_type": "code",
   "execution_count": null,
   "metadata": {},
   "outputs": [],
   "source": []
  },
  {
   "cell_type": "code",
   "execution_count": null,
   "metadata": {},
   "outputs": [],
   "source": []
  },
  {
   "cell_type": "code",
   "execution_count": 96,
   "metadata": {},
   "outputs": [
    {
     "data": {
      "text/plain": [
       "RandomForestRegressor(bootstrap=True, ccp_alpha=0.0, criterion='mse',\n",
       "                      max_depth=None, max_features=0.5, max_leaf_nodes=None,\n",
       "                      max_samples=None, min_impurity_decrease=0.0,\n",
       "                      min_impurity_split=None, min_samples_leaf=1,\n",
       "                      min_samples_split=2, min_weight_fraction_leaf=0.0,\n",
       "                      n_estimators=100, n_jobs=-1, oob_score=True,\n",
       "                      random_state=0, verbose=0, warm_start=False)"
      ]
     },
     "execution_count": 96,
     "metadata": {},
     "output_type": "execute_result"
    }
   ],
   "source": [
    "RFR"
   ]
  },
  {
   "cell_type": "code",
   "execution_count": null,
   "metadata": {},
   "outputs": [],
   "source": []
  },
  {
   "cell_type": "code",
   "execution_count": null,
   "metadata": {},
   "outputs": [],
   "source": [
    "from sklearn.ensemble import RandomForestRegressor\n",
    "from sklearn.model_selection import GridSearchCV\n",
    "import numpy as np\n",
    "\n",
    "param_grid = {\n",
    "    'n_estimators': [50, 100],          # Number of trees in the forest\n",
    "    'max_depth': [None, 5],         # Maximum depth of each tree\n",
    "    'min_samples_split': [2, 5],         # Minimum number of samples required to split an internal node\n",
    "    'min_samples_leaf': [1, 2],           # Minimum number of samples required to be at a leaf node\n",
    "}\n",
    "\n",
    "# Create a Random Forest regressor\n",
    "rf = RandomForestRegressor(random_state=42)\n",
    "\n",
    "# Create a GridSearchCV object\n",
    "grid_search = GridSearchCV(estimator=rf, param_grid=param_grid, cv=5, scoring='neg_mean_squared_error')\n",
    "\n",
    "# Fit the grid search to the data\n",
    "grid_search.fit(X_train, y_train)\n",
    "\n",
    "# Print the best hyperparameters\n",
    "best_params = grid_search.best_params_\n",
    "print(\"Best Hyperparameters:\")\n",
    "print(best_params)\n",
    "\n",
    "# Print the best mean squared error\n",
    "best_mse = -grid_search.best_score_\n",
    "print(\"Best Mean Squared Error:\", best_mse)"
   ]
  },
  {
   "cell_type": "code",
   "execution_count": null,
   "metadata": {},
   "outputs": [],
   "source": [
    "y_pred_gs=grid_search.predict(X_test)"
   ]
  },
  {
   "cell_type": "code",
   "execution_count": null,
   "metadata": {},
   "outputs": [],
   "source": [
    "r2 = r2_score(y_test, y_pred)\n",
    "print(\"R-squared (R^2) Score:\", r2)"
   ]
  },
  {
   "cell_type": "code",
   "execution_count": 92,
   "metadata": {},
   "outputs": [],
   "source": []
  },
  {
   "cell_type": "code",
   "execution_count": null,
   "metadata": {},
   "outputs": [],
   "source": []
  }
 ],
 "metadata": {
  "kernelspec": {
   "display_name": "Python 3",
   "language": "python",
   "name": "python3"
  },
  "language_info": {
   "codemirror_mode": {
    "name": "ipython",
    "version": 3
   },
   "file_extension": ".py",
   "mimetype": "text/x-python",
   "name": "python",
   "nbconvert_exporter": "python",
   "pygments_lexer": "ipython3",
   "version": "3.7.6"
  }
 },
 "nbformat": 4,
 "nbformat_minor": 4
}
